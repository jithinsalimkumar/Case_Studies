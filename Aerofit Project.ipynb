{
 "cells": [
  {
   "cell_type": "markdown",
   "id": "0272daa9",
   "metadata": {},
   "source": [
    " # <center>Aerofit - Descriptive Statistics & Probability </center>"
   ]
  },
  {
   "cell_type": "markdown",
   "id": "879b33a3",
   "metadata": {},
   "source": [
    "### Business Problem "
   ]
  },
  {
   "cell_type": "markdown",
   "id": "1a7ff0f2",
   "metadata": {},
   "source": [
    "The market research team at AeroFit wants to identify the characteristics of \n",
    "the target audience for each type of treadmill offered by the company, to \n",
    "provide a better recommendation of the treadmills to the new customers. The \n",
    "team decides to investigate whether there are differences across the product \n",
    "with respect to customer characteristics.\n",
    "1. Perform descriptive analytics to create a customer profile for each \n",
    "AeroFit treadmill product by developing appropriate tables and charts.\n",
    "2. For each AeroFit treadmill product, construct two-way contingency \n",
    "tables and compute all conditional and marginal \n",
    "probabilities along with their insights/impact on the business."
   ]
  },
  {
   "cell_type": "markdown",
   "id": "58b00a83",
   "metadata": {},
   "source": [
    "### Problem Statements"
   ]
  },
  {
   "cell_type": "markdown",
   "id": "e351b592",
   "metadata": {},
   "source": [
    "1. Viewing the overall information about the dataset.<br>\n",
    "2. Converting 'object' data types to 'category'.<br>\n",
    "3. Statistical summary of the numerical variables in the dataset.<br>\n",
    "4. Checking the summary of non-numerical values in the dataset.<br>\n",
    "5. Count of null values in dataset.<br>\n",
    "6. Finding number of unique values of each columns in data.<br>\n",
    "7. Unique products in dataset.<br>\n",
    "8. Count of each unique products in data.<br>\n",
    "9. Grouping the data based on products.<br>\n",
    "10. Minimum values based on each product.<br>\n",
    "11. Maximum values based on each product.<br>\n",
    "12. Mean of values based on each product.<br>\n",
    "13. Median of values based on each product.<br>\n",
    "14. Price of each products.<br>\n",
    "15. Total price obtained from selling product KP281.<br>\n",
    "16. Total price obtained from selling product KP481.<br>\n",
    "17. Total price obtained from selling product KP781.<br>\n",
    "18. Total price obtained from selling all the products.<br>\n",
    "19. Probability of customers who purchased product KP281.<br>\n",
    "20. Probability of customers who purchased product KP481.<br>\n",
    "21. Probability of customers who purchased product KP781.<br>\n",
    "22. Probability of purchasing product based on Age.<br>\n",
    "23. Probability of purchasing product based on Gender.<br>\n",
    "24. Probability of purchasing product based on Marital Status.<br>\n",
    "25. Analysis based on each product.<br>\n",
    "26. Analysis based on gender.<br>\n",
    "27. Analysis of gender based on each product.<br>\n",
    "28. Analysis of MaritalStatus based on each product.<br>\n",
    "29. Analysis based on age and usage.<br>\n",
    "30. Analysis based on product and income.<br>\n",
    "31. Analysis based on usage and fitness.<br>\n",
    "32. Analysis based on fitness and income.<br>\n",
    "33. Analysing Correlation of data.<br>\n",
    "34. Relation between Miles,Income and Usage.<br>\n",
    "35. Outlier check based on Miles.<br>\n",
    "36. Outlier check based on Income.<br>"
   ]
  },
  {
   "cell_type": "markdown",
   "id": "a57a627e",
   "metadata": {},
   "source": [
    "#### Observations on shape of data, data types of all the attributes, conversion of categorical attributes to 'category' (If required), statistical summary"
   ]
  },
  {
   "cell_type": "markdown",
   "id": "d428009d",
   "metadata": {},
   "source": [
    "###### Importing libraries"
   ]
  },
  {
   "cell_type": "code",
   "execution_count": 40,
   "id": "e5a1d7c5",
   "metadata": {},
   "outputs": [],
   "source": [
    "import numpy as np\n",
    "import pandas as pd\n",
    "import matplotlib.pyplot as plt\n",
    "import seaborn as sns\n",
    "import warnings\n",
    "warnings.filterwarnings('ignore')"
   ]
  },
  {
   "cell_type": "markdown",
   "id": "bc4bbf95",
   "metadata": {},
   "source": [
    "###### Reading data"
   ]
  },
  {
   "cell_type": "code",
   "execution_count": 41,
   "id": "07385e36",
   "metadata": {},
   "outputs": [],
   "source": [
    "data = pd.read_csv(\"https://d2beiqkhq929f0.cloudfront.net/public_assets/assets/000/001/125/original/aerofit_treadmill.csv?1639992749\")"
   ]
  },
  {
   "cell_type": "code",
   "execution_count": 42,
   "id": "79c4ff93",
   "metadata": {},
   "outputs": [
    {
     "data": {
      "text/html": [
       "<div>\n",
       "<style scoped>\n",
       "    .dataframe tbody tr th:only-of-type {\n",
       "        vertical-align: middle;\n",
       "    }\n",
       "\n",
       "    .dataframe tbody tr th {\n",
       "        vertical-align: top;\n",
       "    }\n",
       "\n",
       "    .dataframe thead th {\n",
       "        text-align: right;\n",
       "    }\n",
       "</style>\n",
       "<table border=\"1\" class=\"dataframe\">\n",
       "  <thead>\n",
       "    <tr style=\"text-align: right;\">\n",
       "      <th></th>\n",
       "      <th>Product</th>\n",
       "      <th>Age</th>\n",
       "      <th>Gender</th>\n",
       "      <th>Education</th>\n",
       "      <th>MaritalStatus</th>\n",
       "      <th>Usage</th>\n",
       "      <th>Fitness</th>\n",
       "      <th>Income</th>\n",
       "      <th>Miles</th>\n",
       "    </tr>\n",
       "  </thead>\n",
       "  <tbody>\n",
       "    <tr>\n",
       "      <th>0</th>\n",
       "      <td>KP281</td>\n",
       "      <td>18</td>\n",
       "      <td>Male</td>\n",
       "      <td>14</td>\n",
       "      <td>Single</td>\n",
       "      <td>3</td>\n",
       "      <td>4</td>\n",
       "      <td>29562</td>\n",
       "      <td>112</td>\n",
       "    </tr>\n",
       "    <tr>\n",
       "      <th>1</th>\n",
       "      <td>KP281</td>\n",
       "      <td>19</td>\n",
       "      <td>Male</td>\n",
       "      <td>15</td>\n",
       "      <td>Single</td>\n",
       "      <td>2</td>\n",
       "      <td>3</td>\n",
       "      <td>31836</td>\n",
       "      <td>75</td>\n",
       "    </tr>\n",
       "    <tr>\n",
       "      <th>2</th>\n",
       "      <td>KP281</td>\n",
       "      <td>19</td>\n",
       "      <td>Female</td>\n",
       "      <td>14</td>\n",
       "      <td>Partnered</td>\n",
       "      <td>4</td>\n",
       "      <td>3</td>\n",
       "      <td>30699</td>\n",
       "      <td>66</td>\n",
       "    </tr>\n",
       "    <tr>\n",
       "      <th>3</th>\n",
       "      <td>KP281</td>\n",
       "      <td>19</td>\n",
       "      <td>Male</td>\n",
       "      <td>12</td>\n",
       "      <td>Single</td>\n",
       "      <td>3</td>\n",
       "      <td>3</td>\n",
       "      <td>32973</td>\n",
       "      <td>85</td>\n",
       "    </tr>\n",
       "    <tr>\n",
       "      <th>4</th>\n",
       "      <td>KP281</td>\n",
       "      <td>20</td>\n",
       "      <td>Male</td>\n",
       "      <td>13</td>\n",
       "      <td>Partnered</td>\n",
       "      <td>4</td>\n",
       "      <td>2</td>\n",
       "      <td>35247</td>\n",
       "      <td>47</td>\n",
       "    </tr>\n",
       "    <tr>\n",
       "      <th>...</th>\n",
       "      <td>...</td>\n",
       "      <td>...</td>\n",
       "      <td>...</td>\n",
       "      <td>...</td>\n",
       "      <td>...</td>\n",
       "      <td>...</td>\n",
       "      <td>...</td>\n",
       "      <td>...</td>\n",
       "      <td>...</td>\n",
       "    </tr>\n",
       "    <tr>\n",
       "      <th>175</th>\n",
       "      <td>KP781</td>\n",
       "      <td>40</td>\n",
       "      <td>Male</td>\n",
       "      <td>21</td>\n",
       "      <td>Single</td>\n",
       "      <td>6</td>\n",
       "      <td>5</td>\n",
       "      <td>83416</td>\n",
       "      <td>200</td>\n",
       "    </tr>\n",
       "    <tr>\n",
       "      <th>176</th>\n",
       "      <td>KP781</td>\n",
       "      <td>42</td>\n",
       "      <td>Male</td>\n",
       "      <td>18</td>\n",
       "      <td>Single</td>\n",
       "      <td>5</td>\n",
       "      <td>4</td>\n",
       "      <td>89641</td>\n",
       "      <td>200</td>\n",
       "    </tr>\n",
       "    <tr>\n",
       "      <th>177</th>\n",
       "      <td>KP781</td>\n",
       "      <td>45</td>\n",
       "      <td>Male</td>\n",
       "      <td>16</td>\n",
       "      <td>Single</td>\n",
       "      <td>5</td>\n",
       "      <td>5</td>\n",
       "      <td>90886</td>\n",
       "      <td>160</td>\n",
       "    </tr>\n",
       "    <tr>\n",
       "      <th>178</th>\n",
       "      <td>KP781</td>\n",
       "      <td>47</td>\n",
       "      <td>Male</td>\n",
       "      <td>18</td>\n",
       "      <td>Partnered</td>\n",
       "      <td>4</td>\n",
       "      <td>5</td>\n",
       "      <td>104581</td>\n",
       "      <td>120</td>\n",
       "    </tr>\n",
       "    <tr>\n",
       "      <th>179</th>\n",
       "      <td>KP781</td>\n",
       "      <td>48</td>\n",
       "      <td>Male</td>\n",
       "      <td>18</td>\n",
       "      <td>Partnered</td>\n",
       "      <td>4</td>\n",
       "      <td>5</td>\n",
       "      <td>95508</td>\n",
       "      <td>180</td>\n",
       "    </tr>\n",
       "  </tbody>\n",
       "</table>\n",
       "<p>180 rows × 9 columns</p>\n",
       "</div>"
      ],
      "text/plain": [
       "    Product  Age  Gender  Education MaritalStatus  Usage  Fitness  Income  \\\n",
       "0     KP281   18    Male         14        Single      3        4   29562   \n",
       "1     KP281   19    Male         15        Single      2        3   31836   \n",
       "2     KP281   19  Female         14     Partnered      4        3   30699   \n",
       "3     KP281   19    Male         12        Single      3        3   32973   \n",
       "4     KP281   20    Male         13     Partnered      4        2   35247   \n",
       "..      ...  ...     ...        ...           ...    ...      ...     ...   \n",
       "175   KP781   40    Male         21        Single      6        5   83416   \n",
       "176   KP781   42    Male         18        Single      5        4   89641   \n",
       "177   KP781   45    Male         16        Single      5        5   90886   \n",
       "178   KP781   47    Male         18     Partnered      4        5  104581   \n",
       "179   KP781   48    Male         18     Partnered      4        5   95508   \n",
       "\n",
       "     Miles  \n",
       "0      112  \n",
       "1       75  \n",
       "2       66  \n",
       "3       85  \n",
       "4       47  \n",
       "..     ...  \n",
       "175    200  \n",
       "176    200  \n",
       "177    160  \n",
       "178    120  \n",
       "179    180  \n",
       "\n",
       "[180 rows x 9 columns]"
      ]
     },
     "execution_count": 42,
     "metadata": {},
     "output_type": "execute_result"
    }
   ],
   "source": [
    "data"
   ]
  },
  {
   "cell_type": "markdown",
   "id": "0f2e5ff6",
   "metadata": {},
   "source": [
    "###### First 10 rows of data"
   ]
  },
  {
   "cell_type": "code",
   "execution_count": 43,
   "id": "b9d0aefb",
   "metadata": {},
   "outputs": [
    {
     "data": {
      "text/html": [
       "<div>\n",
       "<style scoped>\n",
       "    .dataframe tbody tr th:only-of-type {\n",
       "        vertical-align: middle;\n",
       "    }\n",
       "\n",
       "    .dataframe tbody tr th {\n",
       "        vertical-align: top;\n",
       "    }\n",
       "\n",
       "    .dataframe thead th {\n",
       "        text-align: right;\n",
       "    }\n",
       "</style>\n",
       "<table border=\"1\" class=\"dataframe\">\n",
       "  <thead>\n",
       "    <tr style=\"text-align: right;\">\n",
       "      <th></th>\n",
       "      <th>Product</th>\n",
       "      <th>Age</th>\n",
       "      <th>Gender</th>\n",
       "      <th>Education</th>\n",
       "      <th>MaritalStatus</th>\n",
       "      <th>Usage</th>\n",
       "      <th>Fitness</th>\n",
       "      <th>Income</th>\n",
       "      <th>Miles</th>\n",
       "    </tr>\n",
       "  </thead>\n",
       "  <tbody>\n",
       "    <tr>\n",
       "      <th>0</th>\n",
       "      <td>KP281</td>\n",
       "      <td>18</td>\n",
       "      <td>Male</td>\n",
       "      <td>14</td>\n",
       "      <td>Single</td>\n",
       "      <td>3</td>\n",
       "      <td>4</td>\n",
       "      <td>29562</td>\n",
       "      <td>112</td>\n",
       "    </tr>\n",
       "    <tr>\n",
       "      <th>1</th>\n",
       "      <td>KP281</td>\n",
       "      <td>19</td>\n",
       "      <td>Male</td>\n",
       "      <td>15</td>\n",
       "      <td>Single</td>\n",
       "      <td>2</td>\n",
       "      <td>3</td>\n",
       "      <td>31836</td>\n",
       "      <td>75</td>\n",
       "    </tr>\n",
       "    <tr>\n",
       "      <th>2</th>\n",
       "      <td>KP281</td>\n",
       "      <td>19</td>\n",
       "      <td>Female</td>\n",
       "      <td>14</td>\n",
       "      <td>Partnered</td>\n",
       "      <td>4</td>\n",
       "      <td>3</td>\n",
       "      <td>30699</td>\n",
       "      <td>66</td>\n",
       "    </tr>\n",
       "    <tr>\n",
       "      <th>3</th>\n",
       "      <td>KP281</td>\n",
       "      <td>19</td>\n",
       "      <td>Male</td>\n",
       "      <td>12</td>\n",
       "      <td>Single</td>\n",
       "      <td>3</td>\n",
       "      <td>3</td>\n",
       "      <td>32973</td>\n",
       "      <td>85</td>\n",
       "    </tr>\n",
       "    <tr>\n",
       "      <th>4</th>\n",
       "      <td>KP281</td>\n",
       "      <td>20</td>\n",
       "      <td>Male</td>\n",
       "      <td>13</td>\n",
       "      <td>Partnered</td>\n",
       "      <td>4</td>\n",
       "      <td>2</td>\n",
       "      <td>35247</td>\n",
       "      <td>47</td>\n",
       "    </tr>\n",
       "    <tr>\n",
       "      <th>5</th>\n",
       "      <td>KP281</td>\n",
       "      <td>20</td>\n",
       "      <td>Female</td>\n",
       "      <td>14</td>\n",
       "      <td>Partnered</td>\n",
       "      <td>3</td>\n",
       "      <td>3</td>\n",
       "      <td>32973</td>\n",
       "      <td>66</td>\n",
       "    </tr>\n",
       "    <tr>\n",
       "      <th>6</th>\n",
       "      <td>KP281</td>\n",
       "      <td>21</td>\n",
       "      <td>Female</td>\n",
       "      <td>14</td>\n",
       "      <td>Partnered</td>\n",
       "      <td>3</td>\n",
       "      <td>3</td>\n",
       "      <td>35247</td>\n",
       "      <td>75</td>\n",
       "    </tr>\n",
       "    <tr>\n",
       "      <th>7</th>\n",
       "      <td>KP281</td>\n",
       "      <td>21</td>\n",
       "      <td>Male</td>\n",
       "      <td>13</td>\n",
       "      <td>Single</td>\n",
       "      <td>3</td>\n",
       "      <td>3</td>\n",
       "      <td>32973</td>\n",
       "      <td>85</td>\n",
       "    </tr>\n",
       "    <tr>\n",
       "      <th>8</th>\n",
       "      <td>KP281</td>\n",
       "      <td>21</td>\n",
       "      <td>Male</td>\n",
       "      <td>15</td>\n",
       "      <td>Single</td>\n",
       "      <td>5</td>\n",
       "      <td>4</td>\n",
       "      <td>35247</td>\n",
       "      <td>141</td>\n",
       "    </tr>\n",
       "    <tr>\n",
       "      <th>9</th>\n",
       "      <td>KP281</td>\n",
       "      <td>21</td>\n",
       "      <td>Female</td>\n",
       "      <td>15</td>\n",
       "      <td>Partnered</td>\n",
       "      <td>2</td>\n",
       "      <td>3</td>\n",
       "      <td>37521</td>\n",
       "      <td>85</td>\n",
       "    </tr>\n",
       "  </tbody>\n",
       "</table>\n",
       "</div>"
      ],
      "text/plain": [
       "  Product  Age  Gender  Education MaritalStatus  Usage  Fitness  Income  Miles\n",
       "0   KP281   18    Male         14        Single      3        4   29562    112\n",
       "1   KP281   19    Male         15        Single      2        3   31836     75\n",
       "2   KP281   19  Female         14     Partnered      4        3   30699     66\n",
       "3   KP281   19    Male         12        Single      3        3   32973     85\n",
       "4   KP281   20    Male         13     Partnered      4        2   35247     47\n",
       "5   KP281   20  Female         14     Partnered      3        3   32973     66\n",
       "6   KP281   21  Female         14     Partnered      3        3   35247     75\n",
       "7   KP281   21    Male         13        Single      3        3   32973     85\n",
       "8   KP281   21    Male         15        Single      5        4   35247    141\n",
       "9   KP281   21  Female         15     Partnered      2        3   37521     85"
      ]
     },
     "execution_count": 43,
     "metadata": {},
     "output_type": "execute_result"
    }
   ],
   "source": [
    "data.head(10)"
   ]
  },
  {
   "cell_type": "markdown",
   "id": "7124f0ec",
   "metadata": {},
   "source": [
    "###### Last 10 rows of data"
   ]
  },
  {
   "cell_type": "code",
   "execution_count": 44,
   "id": "52cf7981",
   "metadata": {},
   "outputs": [
    {
     "data": {
      "text/html": [
       "<div>\n",
       "<style scoped>\n",
       "    .dataframe tbody tr th:only-of-type {\n",
       "        vertical-align: middle;\n",
       "    }\n",
       "\n",
       "    .dataframe tbody tr th {\n",
       "        vertical-align: top;\n",
       "    }\n",
       "\n",
       "    .dataframe thead th {\n",
       "        text-align: right;\n",
       "    }\n",
       "</style>\n",
       "<table border=\"1\" class=\"dataframe\">\n",
       "  <thead>\n",
       "    <tr style=\"text-align: right;\">\n",
       "      <th></th>\n",
       "      <th>Product</th>\n",
       "      <th>Age</th>\n",
       "      <th>Gender</th>\n",
       "      <th>Education</th>\n",
       "      <th>MaritalStatus</th>\n",
       "      <th>Usage</th>\n",
       "      <th>Fitness</th>\n",
       "      <th>Income</th>\n",
       "      <th>Miles</th>\n",
       "    </tr>\n",
       "  </thead>\n",
       "  <tbody>\n",
       "    <tr>\n",
       "      <th>170</th>\n",
       "      <td>KP781</td>\n",
       "      <td>31</td>\n",
       "      <td>Male</td>\n",
       "      <td>16</td>\n",
       "      <td>Partnered</td>\n",
       "      <td>6</td>\n",
       "      <td>5</td>\n",
       "      <td>89641</td>\n",
       "      <td>260</td>\n",
       "    </tr>\n",
       "    <tr>\n",
       "      <th>171</th>\n",
       "      <td>KP781</td>\n",
       "      <td>33</td>\n",
       "      <td>Female</td>\n",
       "      <td>18</td>\n",
       "      <td>Partnered</td>\n",
       "      <td>4</td>\n",
       "      <td>5</td>\n",
       "      <td>95866</td>\n",
       "      <td>200</td>\n",
       "    </tr>\n",
       "    <tr>\n",
       "      <th>172</th>\n",
       "      <td>KP781</td>\n",
       "      <td>34</td>\n",
       "      <td>Male</td>\n",
       "      <td>16</td>\n",
       "      <td>Single</td>\n",
       "      <td>5</td>\n",
       "      <td>5</td>\n",
       "      <td>92131</td>\n",
       "      <td>150</td>\n",
       "    </tr>\n",
       "    <tr>\n",
       "      <th>173</th>\n",
       "      <td>KP781</td>\n",
       "      <td>35</td>\n",
       "      <td>Male</td>\n",
       "      <td>16</td>\n",
       "      <td>Partnered</td>\n",
       "      <td>4</td>\n",
       "      <td>5</td>\n",
       "      <td>92131</td>\n",
       "      <td>360</td>\n",
       "    </tr>\n",
       "    <tr>\n",
       "      <th>174</th>\n",
       "      <td>KP781</td>\n",
       "      <td>38</td>\n",
       "      <td>Male</td>\n",
       "      <td>18</td>\n",
       "      <td>Partnered</td>\n",
       "      <td>5</td>\n",
       "      <td>5</td>\n",
       "      <td>104581</td>\n",
       "      <td>150</td>\n",
       "    </tr>\n",
       "    <tr>\n",
       "      <th>175</th>\n",
       "      <td>KP781</td>\n",
       "      <td>40</td>\n",
       "      <td>Male</td>\n",
       "      <td>21</td>\n",
       "      <td>Single</td>\n",
       "      <td>6</td>\n",
       "      <td>5</td>\n",
       "      <td>83416</td>\n",
       "      <td>200</td>\n",
       "    </tr>\n",
       "    <tr>\n",
       "      <th>176</th>\n",
       "      <td>KP781</td>\n",
       "      <td>42</td>\n",
       "      <td>Male</td>\n",
       "      <td>18</td>\n",
       "      <td>Single</td>\n",
       "      <td>5</td>\n",
       "      <td>4</td>\n",
       "      <td>89641</td>\n",
       "      <td>200</td>\n",
       "    </tr>\n",
       "    <tr>\n",
       "      <th>177</th>\n",
       "      <td>KP781</td>\n",
       "      <td>45</td>\n",
       "      <td>Male</td>\n",
       "      <td>16</td>\n",
       "      <td>Single</td>\n",
       "      <td>5</td>\n",
       "      <td>5</td>\n",
       "      <td>90886</td>\n",
       "      <td>160</td>\n",
       "    </tr>\n",
       "    <tr>\n",
       "      <th>178</th>\n",
       "      <td>KP781</td>\n",
       "      <td>47</td>\n",
       "      <td>Male</td>\n",
       "      <td>18</td>\n",
       "      <td>Partnered</td>\n",
       "      <td>4</td>\n",
       "      <td>5</td>\n",
       "      <td>104581</td>\n",
       "      <td>120</td>\n",
       "    </tr>\n",
       "    <tr>\n",
       "      <th>179</th>\n",
       "      <td>KP781</td>\n",
       "      <td>48</td>\n",
       "      <td>Male</td>\n",
       "      <td>18</td>\n",
       "      <td>Partnered</td>\n",
       "      <td>4</td>\n",
       "      <td>5</td>\n",
       "      <td>95508</td>\n",
       "      <td>180</td>\n",
       "    </tr>\n",
       "  </tbody>\n",
       "</table>\n",
       "</div>"
      ],
      "text/plain": [
       "    Product  Age  Gender  Education MaritalStatus  Usage  Fitness  Income  \\\n",
       "170   KP781   31    Male         16     Partnered      6        5   89641   \n",
       "171   KP781   33  Female         18     Partnered      4        5   95866   \n",
       "172   KP781   34    Male         16        Single      5        5   92131   \n",
       "173   KP781   35    Male         16     Partnered      4        5   92131   \n",
       "174   KP781   38    Male         18     Partnered      5        5  104581   \n",
       "175   KP781   40    Male         21        Single      6        5   83416   \n",
       "176   KP781   42    Male         18        Single      5        4   89641   \n",
       "177   KP781   45    Male         16        Single      5        5   90886   \n",
       "178   KP781   47    Male         18     Partnered      4        5  104581   \n",
       "179   KP781   48    Male         18     Partnered      4        5   95508   \n",
       "\n",
       "     Miles  \n",
       "170    260  \n",
       "171    200  \n",
       "172    150  \n",
       "173    360  \n",
       "174    150  \n",
       "175    200  \n",
       "176    200  \n",
       "177    160  \n",
       "178    120  \n",
       "179    180  "
      ]
     },
     "execution_count": 44,
     "metadata": {},
     "output_type": "execute_result"
    }
   ],
   "source": [
    "data.tail(10)"
   ]
  },
  {
   "cell_type": "markdown",
   "id": "5f657f86",
   "metadata": {},
   "source": [
    "###### Shape of the data"
   ]
  },
  {
   "cell_type": "code",
   "execution_count": 45,
   "id": "cf7305b3",
   "metadata": {},
   "outputs": [
    {
     "data": {
      "text/plain": [
       "(180, 9)"
      ]
     },
     "execution_count": 45,
     "metadata": {},
     "output_type": "execute_result"
    }
   ],
   "source": [
    "data.shape"
   ]
  },
  {
   "cell_type": "markdown",
   "id": "b3a9d4c8",
   "metadata": {},
   "source": [
    "##### Viewing the overall information about the dataset"
   ]
  },
  {
   "cell_type": "code",
   "execution_count": 46,
   "id": "63ade293",
   "metadata": {},
   "outputs": [
    {
     "name": "stdout",
     "output_type": "stream",
     "text": [
      "<class 'pandas.core.frame.DataFrame'>\n",
      "RangeIndex: 180 entries, 0 to 179\n",
      "Data columns (total 9 columns):\n",
      " #   Column         Non-Null Count  Dtype \n",
      "---  ------         --------------  ----- \n",
      " 0   Product        180 non-null    object\n",
      " 1   Age            180 non-null    int64 \n",
      " 2   Gender         180 non-null    object\n",
      " 3   Education      180 non-null    int64 \n",
      " 4   MaritalStatus  180 non-null    object\n",
      " 5   Usage          180 non-null    int64 \n",
      " 6   Fitness        180 non-null    int64 \n",
      " 7   Income         180 non-null    int64 \n",
      " 8   Miles          180 non-null    int64 \n",
      "dtypes: int64(6), object(3)\n",
      "memory usage: 12.8+ KB\n"
     ]
    }
   ],
   "source": [
    "data.info()"
   ]
  },
  {
   "cell_type": "markdown",
   "id": "f18dc734",
   "metadata": {},
   "source": [
    "###### Converting 'object' data types to 'category' "
   ]
  },
  {
   "cell_type": "code",
   "execution_count": 47,
   "id": "ef207b39",
   "metadata": {},
   "outputs": [],
   "source": [
    "data.Product = data.Product.astype('category')"
   ]
  },
  {
   "cell_type": "code",
   "execution_count": 48,
   "id": "7a9121a2",
   "metadata": {},
   "outputs": [],
   "source": [
    "data.Gender = data.Gender.astype('category')"
   ]
  },
  {
   "cell_type": "code",
   "execution_count": 49,
   "id": "cf923f35",
   "metadata": {},
   "outputs": [
    {
     "data": {
      "text/plain": [
       "Product          category\n",
       "Age                 int64\n",
       "Gender           category\n",
       "Education           int64\n",
       "MaritalStatus      object\n",
       "Usage               int64\n",
       "Fitness             int64\n",
       "Income              int64\n",
       "Miles               int64\n",
       "dtype: object"
      ]
     },
     "execution_count": 49,
     "metadata": {},
     "output_type": "execute_result"
    }
   ],
   "source": [
    "data.dtypes"
   ]
  },
  {
   "cell_type": "markdown",
   "id": "8aba4bba",
   "metadata": {},
   "source": [
    "###### Statistical summary of the numerical variables in the dataset"
   ]
  },
  {
   "cell_type": "code",
   "execution_count": 50,
   "id": "2f97242e",
   "metadata": {},
   "outputs": [
    {
     "data": {
      "text/html": [
       "<div>\n",
       "<style scoped>\n",
       "    .dataframe tbody tr th:only-of-type {\n",
       "        vertical-align: middle;\n",
       "    }\n",
       "\n",
       "    .dataframe tbody tr th {\n",
       "        vertical-align: top;\n",
       "    }\n",
       "\n",
       "    .dataframe thead th {\n",
       "        text-align: right;\n",
       "    }\n",
       "</style>\n",
       "<table border=\"1\" class=\"dataframe\">\n",
       "  <thead>\n",
       "    <tr style=\"text-align: right;\">\n",
       "      <th></th>\n",
       "      <th>count</th>\n",
       "      <th>mean</th>\n",
       "      <th>std</th>\n",
       "      <th>min</th>\n",
       "      <th>25%</th>\n",
       "      <th>50%</th>\n",
       "      <th>75%</th>\n",
       "      <th>max</th>\n",
       "    </tr>\n",
       "  </thead>\n",
       "  <tbody>\n",
       "    <tr>\n",
       "      <th>Age</th>\n",
       "      <td>180.0</td>\n",
       "      <td>28.788889</td>\n",
       "      <td>6.943498</td>\n",
       "      <td>18.0</td>\n",
       "      <td>24.00</td>\n",
       "      <td>26.0</td>\n",
       "      <td>33.00</td>\n",
       "      <td>50.0</td>\n",
       "    </tr>\n",
       "    <tr>\n",
       "      <th>Education</th>\n",
       "      <td>180.0</td>\n",
       "      <td>15.572222</td>\n",
       "      <td>1.617055</td>\n",
       "      <td>12.0</td>\n",
       "      <td>14.00</td>\n",
       "      <td>16.0</td>\n",
       "      <td>16.00</td>\n",
       "      <td>21.0</td>\n",
       "    </tr>\n",
       "    <tr>\n",
       "      <th>Usage</th>\n",
       "      <td>180.0</td>\n",
       "      <td>3.455556</td>\n",
       "      <td>1.084797</td>\n",
       "      <td>2.0</td>\n",
       "      <td>3.00</td>\n",
       "      <td>3.0</td>\n",
       "      <td>4.00</td>\n",
       "      <td>7.0</td>\n",
       "    </tr>\n",
       "    <tr>\n",
       "      <th>Fitness</th>\n",
       "      <td>180.0</td>\n",
       "      <td>3.311111</td>\n",
       "      <td>0.958869</td>\n",
       "      <td>1.0</td>\n",
       "      <td>3.00</td>\n",
       "      <td>3.0</td>\n",
       "      <td>4.00</td>\n",
       "      <td>5.0</td>\n",
       "    </tr>\n",
       "    <tr>\n",
       "      <th>Income</th>\n",
       "      <td>180.0</td>\n",
       "      <td>53719.577778</td>\n",
       "      <td>16506.684226</td>\n",
       "      <td>29562.0</td>\n",
       "      <td>44058.75</td>\n",
       "      <td>50596.5</td>\n",
       "      <td>58668.00</td>\n",
       "      <td>104581.0</td>\n",
       "    </tr>\n",
       "    <tr>\n",
       "      <th>Miles</th>\n",
       "      <td>180.0</td>\n",
       "      <td>103.194444</td>\n",
       "      <td>51.863605</td>\n",
       "      <td>21.0</td>\n",
       "      <td>66.00</td>\n",
       "      <td>94.0</td>\n",
       "      <td>114.75</td>\n",
       "      <td>360.0</td>\n",
       "    </tr>\n",
       "  </tbody>\n",
       "</table>\n",
       "</div>"
      ],
      "text/plain": [
       "           count          mean           std      min       25%      50%  \\\n",
       "Age        180.0     28.788889      6.943498     18.0     24.00     26.0   \n",
       "Education  180.0     15.572222      1.617055     12.0     14.00     16.0   \n",
       "Usage      180.0      3.455556      1.084797      2.0      3.00      3.0   \n",
       "Fitness    180.0      3.311111      0.958869      1.0      3.00      3.0   \n",
       "Income     180.0  53719.577778  16506.684226  29562.0  44058.75  50596.5   \n",
       "Miles      180.0    103.194444     51.863605     21.0     66.00     94.0   \n",
       "\n",
       "                75%       max  \n",
       "Age           33.00      50.0  \n",
       "Education     16.00      21.0  \n",
       "Usage          4.00       7.0  \n",
       "Fitness        4.00       5.0  \n",
       "Income     58668.00  104581.0  \n",
       "Miles        114.75     360.0  "
      ]
     },
     "execution_count": 50,
     "metadata": {},
     "output_type": "execute_result"
    }
   ],
   "source": [
    "data.describe().T"
   ]
  },
  {
   "cell_type": "markdown",
   "id": "1367cdcf",
   "metadata": {},
   "source": [
    "###### Checking the summary of non-numerical values in the dataset"
   ]
  },
  {
   "cell_type": "code",
   "execution_count": 51,
   "id": "ee161b5f",
   "metadata": {},
   "outputs": [
    {
     "data": {
      "text/html": [
       "<div>\n",
       "<style scoped>\n",
       "    .dataframe tbody tr th:only-of-type {\n",
       "        vertical-align: middle;\n",
       "    }\n",
       "\n",
       "    .dataframe tbody tr th {\n",
       "        vertical-align: top;\n",
       "    }\n",
       "\n",
       "    .dataframe thead th {\n",
       "        text-align: right;\n",
       "    }\n",
       "</style>\n",
       "<table border=\"1\" class=\"dataframe\">\n",
       "  <thead>\n",
       "    <tr style=\"text-align: right;\">\n",
       "      <th></th>\n",
       "      <th>count</th>\n",
       "      <th>unique</th>\n",
       "      <th>top</th>\n",
       "      <th>freq</th>\n",
       "    </tr>\n",
       "  </thead>\n",
       "  <tbody>\n",
       "    <tr>\n",
       "      <th>Product</th>\n",
       "      <td>180</td>\n",
       "      <td>3</td>\n",
       "      <td>KP281</td>\n",
       "      <td>80</td>\n",
       "    </tr>\n",
       "    <tr>\n",
       "      <th>Gender</th>\n",
       "      <td>180</td>\n",
       "      <td>2</td>\n",
       "      <td>Male</td>\n",
       "      <td>104</td>\n",
       "    </tr>\n",
       "    <tr>\n",
       "      <th>MaritalStatus</th>\n",
       "      <td>180</td>\n",
       "      <td>2</td>\n",
       "      <td>Partnered</td>\n",
       "      <td>107</td>\n",
       "    </tr>\n",
       "  </tbody>\n",
       "</table>\n",
       "</div>"
      ],
      "text/plain": [
       "              count unique        top freq\n",
       "Product         180      3      KP281   80\n",
       "Gender          180      2       Male  104\n",
       "MaritalStatus   180      2  Partnered  107"
      ]
     },
     "execution_count": 51,
     "metadata": {},
     "output_type": "execute_result"
    }
   ],
   "source": [
    "data.describe(exclude = 'number').T"
   ]
  },
  {
   "cell_type": "markdown",
   "id": "824134cd",
   "metadata": {},
   "source": [
    "###### Count of null values in dataset"
   ]
  },
  {
   "cell_type": "code",
   "execution_count": 52,
   "id": "5c9e5621",
   "metadata": {},
   "outputs": [
    {
     "data": {
      "text/plain": [
       "Product          0\n",
       "Age              0\n",
       "Gender           0\n",
       "Education        0\n",
       "MaritalStatus    0\n",
       "Usage            0\n",
       "Fitness          0\n",
       "Income           0\n",
       "Miles            0\n",
       "dtype: int64"
      ]
     },
     "execution_count": 52,
     "metadata": {},
     "output_type": "execute_result"
    }
   ],
   "source": [
    "data.isnull().sum()"
   ]
  },
  {
   "cell_type": "markdown",
   "id": "4e914817",
   "metadata": {},
   "source": [
    "#### Non-Graphical Analysis: Value counts and unique attributes"
   ]
  },
  {
   "cell_type": "markdown",
   "id": "a0a7cdc3",
   "metadata": {},
   "source": [
    "###### Number of unique values in data"
   ]
  },
  {
   "cell_type": "code",
   "execution_count": 53,
   "id": "bd4fbe5b",
   "metadata": {},
   "outputs": [
    {
     "name": "stdout",
     "output_type": "stream",
     "text": [
      "Product : 3\n",
      "Age : 32\n",
      "Gender : 2\n",
      "Education : 8\n",
      "MaritalStatus : 2\n",
      "Usage : 6\n",
      "Fitness : 5\n",
      "Income : 62\n",
      "Miles : 37\n"
     ]
    }
   ],
   "source": [
    "for i in data.columns:\n",
    "    print(i,':',data[i].nunique())"
   ]
  },
  {
   "cell_type": "markdown",
   "id": "b041bd60",
   "metadata": {},
   "source": [
    "###### Unique products in dataset"
   ]
  },
  {
   "cell_type": "code",
   "execution_count": 54,
   "id": "0c31e2ab",
   "metadata": {},
   "outputs": [
    {
     "data": {
      "text/plain": [
       "['KP281', 'KP481', 'KP781']\n",
       "Categories (3, object): ['KP281', 'KP481', 'KP781']"
      ]
     },
     "execution_count": 54,
     "metadata": {},
     "output_type": "execute_result"
    }
   ],
   "source": [
    "data['Product'].unique()"
   ]
  },
  {
   "cell_type": "markdown",
   "id": "fd256e60",
   "metadata": {},
   "source": [
    "###### Count of each unique products"
   ]
  },
  {
   "cell_type": "code",
   "execution_count": 55,
   "id": "d62494e0",
   "metadata": {},
   "outputs": [
    {
     "data": {
      "text/plain": [
       "KP281    80\n",
       "KP481    60\n",
       "KP781    40\n",
       "Name: Product, dtype: int64"
      ]
     },
     "execution_count": 55,
     "metadata": {},
     "output_type": "execute_result"
    }
   ],
   "source": [
    "data['Product'].value_counts()"
   ]
  },
  {
   "cell_type": "markdown",
   "id": "3e7c9779",
   "metadata": {},
   "source": [
    "###### Grouping the data based on products"
   ]
  },
  {
   "cell_type": "code",
   "execution_count": 56,
   "id": "75fe0c82",
   "metadata": {},
   "outputs": [],
   "source": [
    "grp_product = data.groupby([data['Product']])"
   ]
  },
  {
   "cell_type": "markdown",
   "id": "24255e75",
   "metadata": {},
   "source": [
    "###### Minimum values based on each product"
   ]
  },
  {
   "cell_type": "code",
   "execution_count": 57,
   "id": "c341cf99",
   "metadata": {},
   "outputs": [
    {
     "data": {
      "text/html": [
       "<div>\n",
       "<style scoped>\n",
       "    .dataframe tbody tr th:only-of-type {\n",
       "        vertical-align: middle;\n",
       "    }\n",
       "\n",
       "    .dataframe tbody tr th {\n",
       "        vertical-align: top;\n",
       "    }\n",
       "\n",
       "    .dataframe thead th {\n",
       "        text-align: right;\n",
       "    }\n",
       "</style>\n",
       "<table border=\"1\" class=\"dataframe\">\n",
       "  <thead>\n",
       "    <tr style=\"text-align: right;\">\n",
       "      <th></th>\n",
       "      <th>Age</th>\n",
       "      <th>Education</th>\n",
       "      <th>Usage</th>\n",
       "      <th>Fitness</th>\n",
       "      <th>Income</th>\n",
       "      <th>Miles</th>\n",
       "    </tr>\n",
       "    <tr>\n",
       "      <th>Product</th>\n",
       "      <th></th>\n",
       "      <th></th>\n",
       "      <th></th>\n",
       "      <th></th>\n",
       "      <th></th>\n",
       "      <th></th>\n",
       "    </tr>\n",
       "  </thead>\n",
       "  <tbody>\n",
       "    <tr>\n",
       "      <th>KP281</th>\n",
       "      <td>18</td>\n",
       "      <td>12</td>\n",
       "      <td>2</td>\n",
       "      <td>1</td>\n",
       "      <td>29562</td>\n",
       "      <td>38</td>\n",
       "    </tr>\n",
       "    <tr>\n",
       "      <th>KP481</th>\n",
       "      <td>19</td>\n",
       "      <td>12</td>\n",
       "      <td>2</td>\n",
       "      <td>1</td>\n",
       "      <td>31836</td>\n",
       "      <td>21</td>\n",
       "    </tr>\n",
       "    <tr>\n",
       "      <th>KP781</th>\n",
       "      <td>22</td>\n",
       "      <td>14</td>\n",
       "      <td>3</td>\n",
       "      <td>3</td>\n",
       "      <td>48556</td>\n",
       "      <td>80</td>\n",
       "    </tr>\n",
       "  </tbody>\n",
       "</table>\n",
       "</div>"
      ],
      "text/plain": [
       "         Age  Education  Usage  Fitness  Income  Miles\n",
       "Product                                               \n",
       "KP281     18         12      2        1   29562     38\n",
       "KP481     19         12      2        1   31836     21\n",
       "KP781     22         14      3        3   48556     80"
      ]
     },
     "execution_count": 57,
     "metadata": {},
     "output_type": "execute_result"
    }
   ],
   "source": [
    "grp_product.min(int)"
   ]
  },
  {
   "cell_type": "markdown",
   "id": "fad6e434",
   "metadata": {},
   "source": [
    "###### Maximum values based on each product"
   ]
  },
  {
   "cell_type": "code",
   "execution_count": 58,
   "id": "8ab37783",
   "metadata": {},
   "outputs": [
    {
     "data": {
      "text/html": [
       "<div>\n",
       "<style scoped>\n",
       "    .dataframe tbody tr th:only-of-type {\n",
       "        vertical-align: middle;\n",
       "    }\n",
       "\n",
       "    .dataframe tbody tr th {\n",
       "        vertical-align: top;\n",
       "    }\n",
       "\n",
       "    .dataframe thead th {\n",
       "        text-align: right;\n",
       "    }\n",
       "</style>\n",
       "<table border=\"1\" class=\"dataframe\">\n",
       "  <thead>\n",
       "    <tr style=\"text-align: right;\">\n",
       "      <th></th>\n",
       "      <th>Age</th>\n",
       "      <th>Education</th>\n",
       "      <th>Usage</th>\n",
       "      <th>Fitness</th>\n",
       "      <th>Income</th>\n",
       "      <th>Miles</th>\n",
       "    </tr>\n",
       "    <tr>\n",
       "      <th>Product</th>\n",
       "      <th></th>\n",
       "      <th></th>\n",
       "      <th></th>\n",
       "      <th></th>\n",
       "      <th></th>\n",
       "      <th></th>\n",
       "    </tr>\n",
       "  </thead>\n",
       "  <tbody>\n",
       "    <tr>\n",
       "      <th>KP281</th>\n",
       "      <td>50</td>\n",
       "      <td>18</td>\n",
       "      <td>5</td>\n",
       "      <td>5</td>\n",
       "      <td>68220</td>\n",
       "      <td>188</td>\n",
       "    </tr>\n",
       "    <tr>\n",
       "      <th>KP481</th>\n",
       "      <td>48</td>\n",
       "      <td>18</td>\n",
       "      <td>5</td>\n",
       "      <td>4</td>\n",
       "      <td>67083</td>\n",
       "      <td>212</td>\n",
       "    </tr>\n",
       "    <tr>\n",
       "      <th>KP781</th>\n",
       "      <td>48</td>\n",
       "      <td>21</td>\n",
       "      <td>7</td>\n",
       "      <td>5</td>\n",
       "      <td>104581</td>\n",
       "      <td>360</td>\n",
       "    </tr>\n",
       "  </tbody>\n",
       "</table>\n",
       "</div>"
      ],
      "text/plain": [
       "         Age  Education  Usage  Fitness  Income  Miles\n",
       "Product                                               \n",
       "KP281     50         18      5        5   68220    188\n",
       "KP481     48         18      5        4   67083    212\n",
       "KP781     48         21      7        5  104581    360"
      ]
     },
     "execution_count": 58,
     "metadata": {},
     "output_type": "execute_result"
    }
   ],
   "source": [
    "grp_product.max(int)"
   ]
  },
  {
   "cell_type": "markdown",
   "id": "c94730d9",
   "metadata": {},
   "source": [
    "###### Mean of values based on each product"
   ]
  },
  {
   "cell_type": "code",
   "execution_count": 59,
   "id": "4f379d56",
   "metadata": {},
   "outputs": [
    {
     "data": {
      "text/html": [
       "<div>\n",
       "<style scoped>\n",
       "    .dataframe tbody tr th:only-of-type {\n",
       "        vertical-align: middle;\n",
       "    }\n",
       "\n",
       "    .dataframe tbody tr th {\n",
       "        vertical-align: top;\n",
       "    }\n",
       "\n",
       "    .dataframe thead th {\n",
       "        text-align: right;\n",
       "    }\n",
       "</style>\n",
       "<table border=\"1\" class=\"dataframe\">\n",
       "  <thead>\n",
       "    <tr style=\"text-align: right;\">\n",
       "      <th></th>\n",
       "      <th>Age</th>\n",
       "      <th>Education</th>\n",
       "      <th>Usage</th>\n",
       "      <th>Fitness</th>\n",
       "      <th>Income</th>\n",
       "      <th>Miles</th>\n",
       "    </tr>\n",
       "    <tr>\n",
       "      <th>Product</th>\n",
       "      <th></th>\n",
       "      <th></th>\n",
       "      <th></th>\n",
       "      <th></th>\n",
       "      <th></th>\n",
       "      <th></th>\n",
       "    </tr>\n",
       "  </thead>\n",
       "  <tbody>\n",
       "    <tr>\n",
       "      <th>KP281</th>\n",
       "      <td>28.55</td>\n",
       "      <td>15.04</td>\n",
       "      <td>3.09</td>\n",
       "      <td>2.96</td>\n",
       "      <td>46418.02</td>\n",
       "      <td>82.79</td>\n",
       "    </tr>\n",
       "    <tr>\n",
       "      <th>KP481</th>\n",
       "      <td>28.90</td>\n",
       "      <td>15.12</td>\n",
       "      <td>3.07</td>\n",
       "      <td>2.90</td>\n",
       "      <td>48973.65</td>\n",
       "      <td>87.93</td>\n",
       "    </tr>\n",
       "    <tr>\n",
       "      <th>KP781</th>\n",
       "      <td>29.10</td>\n",
       "      <td>17.32</td>\n",
       "      <td>4.78</td>\n",
       "      <td>4.62</td>\n",
       "      <td>75441.58</td>\n",
       "      <td>166.90</td>\n",
       "    </tr>\n",
       "  </tbody>\n",
       "</table>\n",
       "</div>"
      ],
      "text/plain": [
       "           Age  Education  Usage  Fitness    Income   Miles\n",
       "Product                                                    \n",
       "KP281    28.55      15.04   3.09     2.96  46418.02   82.79\n",
       "KP481    28.90      15.12   3.07     2.90  48973.65   87.93\n",
       "KP781    29.10      17.32   4.78     4.62  75441.58  166.90"
      ]
     },
     "execution_count": 59,
     "metadata": {},
     "output_type": "execute_result"
    }
   ],
   "source": [
    "grp_product.mean().round(2)"
   ]
  },
  {
   "cell_type": "markdown",
   "id": "e694a50d",
   "metadata": {},
   "source": [
    "###### Median of values based on each product"
   ]
  },
  {
   "cell_type": "code",
   "execution_count": 60,
   "id": "65e5bdc5",
   "metadata": {},
   "outputs": [
    {
     "data": {
      "text/html": [
       "<div>\n",
       "<style scoped>\n",
       "    .dataframe tbody tr th:only-of-type {\n",
       "        vertical-align: middle;\n",
       "    }\n",
       "\n",
       "    .dataframe tbody tr th {\n",
       "        vertical-align: top;\n",
       "    }\n",
       "\n",
       "    .dataframe thead th {\n",
       "        text-align: right;\n",
       "    }\n",
       "</style>\n",
       "<table border=\"1\" class=\"dataframe\">\n",
       "  <thead>\n",
       "    <tr style=\"text-align: right;\">\n",
       "      <th></th>\n",
       "      <th>Age</th>\n",
       "      <th>Education</th>\n",
       "      <th>Usage</th>\n",
       "      <th>Fitness</th>\n",
       "      <th>Income</th>\n",
       "      <th>Miles</th>\n",
       "    </tr>\n",
       "    <tr>\n",
       "      <th>Product</th>\n",
       "      <th></th>\n",
       "      <th></th>\n",
       "      <th></th>\n",
       "      <th></th>\n",
       "      <th></th>\n",
       "      <th></th>\n",
       "    </tr>\n",
       "  </thead>\n",
       "  <tbody>\n",
       "    <tr>\n",
       "      <th>KP281</th>\n",
       "      <td>26.0</td>\n",
       "      <td>16.0</td>\n",
       "      <td>3.0</td>\n",
       "      <td>3.0</td>\n",
       "      <td>46617.0</td>\n",
       "      <td>85.0</td>\n",
       "    </tr>\n",
       "    <tr>\n",
       "      <th>KP481</th>\n",
       "      <td>26.0</td>\n",
       "      <td>16.0</td>\n",
       "      <td>3.0</td>\n",
       "      <td>3.0</td>\n",
       "      <td>49459.5</td>\n",
       "      <td>85.0</td>\n",
       "    </tr>\n",
       "    <tr>\n",
       "      <th>KP781</th>\n",
       "      <td>27.0</td>\n",
       "      <td>18.0</td>\n",
       "      <td>5.0</td>\n",
       "      <td>5.0</td>\n",
       "      <td>76568.5</td>\n",
       "      <td>160.0</td>\n",
       "    </tr>\n",
       "  </tbody>\n",
       "</table>\n",
       "</div>"
      ],
      "text/plain": [
       "          Age  Education  Usage  Fitness   Income  Miles\n",
       "Product                                                 \n",
       "KP281    26.0       16.0    3.0      3.0  46617.0   85.0\n",
       "KP481    26.0       16.0    3.0      3.0  49459.5   85.0\n",
       "KP781    27.0       18.0    5.0      5.0  76568.5  160.0"
      ]
     },
     "execution_count": 60,
     "metadata": {},
     "output_type": "execute_result"
    }
   ],
   "source": [
    "grp_product.median()"
   ]
  },
  {
   "cell_type": "code",
   "execution_count": 61,
   "id": "07cf342f",
   "metadata": {},
   "outputs": [
    {
     "data": {
      "text/html": [
       "<div>\n",
       "<style scoped>\n",
       "    .dataframe tbody tr th:only-of-type {\n",
       "        vertical-align: middle;\n",
       "    }\n",
       "\n",
       "    .dataframe tbody tr th {\n",
       "        vertical-align: top;\n",
       "    }\n",
       "\n",
       "    .dataframe thead th {\n",
       "        text-align: right;\n",
       "    }\n",
       "</style>\n",
       "<table border=\"1\" class=\"dataframe\">\n",
       "  <thead>\n",
       "    <tr style=\"text-align: right;\">\n",
       "      <th></th>\n",
       "      <th>Product</th>\n",
       "      <th>Age</th>\n",
       "      <th>Gender</th>\n",
       "      <th>Education</th>\n",
       "      <th>MaritalStatus</th>\n",
       "      <th>Usage</th>\n",
       "      <th>Fitness</th>\n",
       "      <th>Income</th>\n",
       "      <th>Miles</th>\n",
       "    </tr>\n",
       "  </thead>\n",
       "  <tbody>\n",
       "    <tr>\n",
       "      <th>0</th>\n",
       "      <td>KP281</td>\n",
       "      <td>18</td>\n",
       "      <td>Male</td>\n",
       "      <td>14</td>\n",
       "      <td>Single</td>\n",
       "      <td>3</td>\n",
       "      <td>4</td>\n",
       "      <td>29562</td>\n",
       "      <td>112</td>\n",
       "    </tr>\n",
       "    <tr>\n",
       "      <th>1</th>\n",
       "      <td>KP281</td>\n",
       "      <td>19</td>\n",
       "      <td>Male</td>\n",
       "      <td>15</td>\n",
       "      <td>Single</td>\n",
       "      <td>2</td>\n",
       "      <td>3</td>\n",
       "      <td>31836</td>\n",
       "      <td>75</td>\n",
       "    </tr>\n",
       "    <tr>\n",
       "      <th>2</th>\n",
       "      <td>KP281</td>\n",
       "      <td>19</td>\n",
       "      <td>Female</td>\n",
       "      <td>14</td>\n",
       "      <td>Partnered</td>\n",
       "      <td>4</td>\n",
       "      <td>3</td>\n",
       "      <td>30699</td>\n",
       "      <td>66</td>\n",
       "    </tr>\n",
       "    <tr>\n",
       "      <th>3</th>\n",
       "      <td>KP281</td>\n",
       "      <td>19</td>\n",
       "      <td>Male</td>\n",
       "      <td>12</td>\n",
       "      <td>Single</td>\n",
       "      <td>3</td>\n",
       "      <td>3</td>\n",
       "      <td>32973</td>\n",
       "      <td>85</td>\n",
       "    </tr>\n",
       "    <tr>\n",
       "      <th>4</th>\n",
       "      <td>KP281</td>\n",
       "      <td>20</td>\n",
       "      <td>Male</td>\n",
       "      <td>13</td>\n",
       "      <td>Partnered</td>\n",
       "      <td>4</td>\n",
       "      <td>2</td>\n",
       "      <td>35247</td>\n",
       "      <td>47</td>\n",
       "    </tr>\n",
       "    <tr>\n",
       "      <th>5</th>\n",
       "      <td>KP281</td>\n",
       "      <td>20</td>\n",
       "      <td>Female</td>\n",
       "      <td>14</td>\n",
       "      <td>Partnered</td>\n",
       "      <td>3</td>\n",
       "      <td>3</td>\n",
       "      <td>32973</td>\n",
       "      <td>66</td>\n",
       "    </tr>\n",
       "    <tr>\n",
       "      <th>6</th>\n",
       "      <td>KP281</td>\n",
       "      <td>21</td>\n",
       "      <td>Female</td>\n",
       "      <td>14</td>\n",
       "      <td>Partnered</td>\n",
       "      <td>3</td>\n",
       "      <td>3</td>\n",
       "      <td>35247</td>\n",
       "      <td>75</td>\n",
       "    </tr>\n",
       "    <tr>\n",
       "      <th>7</th>\n",
       "      <td>KP281</td>\n",
       "      <td>21</td>\n",
       "      <td>Male</td>\n",
       "      <td>13</td>\n",
       "      <td>Single</td>\n",
       "      <td>3</td>\n",
       "      <td>3</td>\n",
       "      <td>32973</td>\n",
       "      <td>85</td>\n",
       "    </tr>\n",
       "    <tr>\n",
       "      <th>8</th>\n",
       "      <td>KP281</td>\n",
       "      <td>21</td>\n",
       "      <td>Male</td>\n",
       "      <td>15</td>\n",
       "      <td>Single</td>\n",
       "      <td>5</td>\n",
       "      <td>4</td>\n",
       "      <td>35247</td>\n",
       "      <td>141</td>\n",
       "    </tr>\n",
       "    <tr>\n",
       "      <th>9</th>\n",
       "      <td>KP281</td>\n",
       "      <td>21</td>\n",
       "      <td>Female</td>\n",
       "      <td>15</td>\n",
       "      <td>Partnered</td>\n",
       "      <td>2</td>\n",
       "      <td>3</td>\n",
       "      <td>37521</td>\n",
       "      <td>85</td>\n",
       "    </tr>\n",
       "  </tbody>\n",
       "</table>\n",
       "</div>"
      ],
      "text/plain": [
       "  Product  Age  Gender  Education MaritalStatus  Usage  Fitness  Income  Miles\n",
       "0   KP281   18    Male         14        Single      3        4   29562    112\n",
       "1   KP281   19    Male         15        Single      2        3   31836     75\n",
       "2   KP281   19  Female         14     Partnered      4        3   30699     66\n",
       "3   KP281   19    Male         12        Single      3        3   32973     85\n",
       "4   KP281   20    Male         13     Partnered      4        2   35247     47\n",
       "5   KP281   20  Female         14     Partnered      3        3   32973     66\n",
       "6   KP281   21  Female         14     Partnered      3        3   35247     75\n",
       "7   KP281   21    Male         13        Single      3        3   32973     85\n",
       "8   KP281   21    Male         15        Single      5        4   35247    141\n",
       "9   KP281   21  Female         15     Partnered      2        3   37521     85"
      ]
     },
     "execution_count": 61,
     "metadata": {},
     "output_type": "execute_result"
    }
   ],
   "source": [
    "kp_281=data.loc[data['Product']=='KP281']\n",
    "kp_281.head(10)"
   ]
  },
  {
   "cell_type": "code",
   "execution_count": 62,
   "id": "7bd09a65",
   "metadata": {},
   "outputs": [
    {
     "data": {
      "text/html": [
       "<div>\n",
       "<style scoped>\n",
       "    .dataframe tbody tr th:only-of-type {\n",
       "        vertical-align: middle;\n",
       "    }\n",
       "\n",
       "    .dataframe tbody tr th {\n",
       "        vertical-align: top;\n",
       "    }\n",
       "\n",
       "    .dataframe thead th {\n",
       "        text-align: right;\n",
       "    }\n",
       "</style>\n",
       "<table border=\"1\" class=\"dataframe\">\n",
       "  <thead>\n",
       "    <tr style=\"text-align: right;\">\n",
       "      <th></th>\n",
       "      <th>Product</th>\n",
       "      <th>Age</th>\n",
       "      <th>Gender</th>\n",
       "      <th>Education</th>\n",
       "      <th>MaritalStatus</th>\n",
       "      <th>Usage</th>\n",
       "      <th>Fitness</th>\n",
       "      <th>Income</th>\n",
       "      <th>Miles</th>\n",
       "    </tr>\n",
       "  </thead>\n",
       "  <tbody>\n",
       "    <tr>\n",
       "      <th>80</th>\n",
       "      <td>KP481</td>\n",
       "      <td>19</td>\n",
       "      <td>Male</td>\n",
       "      <td>14</td>\n",
       "      <td>Single</td>\n",
       "      <td>3</td>\n",
       "      <td>3</td>\n",
       "      <td>31836</td>\n",
       "      <td>64</td>\n",
       "    </tr>\n",
       "    <tr>\n",
       "      <th>81</th>\n",
       "      <td>KP481</td>\n",
       "      <td>20</td>\n",
       "      <td>Male</td>\n",
       "      <td>14</td>\n",
       "      <td>Single</td>\n",
       "      <td>2</td>\n",
       "      <td>3</td>\n",
       "      <td>32973</td>\n",
       "      <td>53</td>\n",
       "    </tr>\n",
       "    <tr>\n",
       "      <th>82</th>\n",
       "      <td>KP481</td>\n",
       "      <td>20</td>\n",
       "      <td>Female</td>\n",
       "      <td>14</td>\n",
       "      <td>Partnered</td>\n",
       "      <td>3</td>\n",
       "      <td>3</td>\n",
       "      <td>34110</td>\n",
       "      <td>106</td>\n",
       "    </tr>\n",
       "    <tr>\n",
       "      <th>83</th>\n",
       "      <td>KP481</td>\n",
       "      <td>20</td>\n",
       "      <td>Male</td>\n",
       "      <td>14</td>\n",
       "      <td>Single</td>\n",
       "      <td>3</td>\n",
       "      <td>3</td>\n",
       "      <td>38658</td>\n",
       "      <td>95</td>\n",
       "    </tr>\n",
       "    <tr>\n",
       "      <th>84</th>\n",
       "      <td>KP481</td>\n",
       "      <td>21</td>\n",
       "      <td>Female</td>\n",
       "      <td>14</td>\n",
       "      <td>Partnered</td>\n",
       "      <td>5</td>\n",
       "      <td>4</td>\n",
       "      <td>34110</td>\n",
       "      <td>212</td>\n",
       "    </tr>\n",
       "    <tr>\n",
       "      <th>85</th>\n",
       "      <td>KP481</td>\n",
       "      <td>21</td>\n",
       "      <td>Male</td>\n",
       "      <td>16</td>\n",
       "      <td>Partnered</td>\n",
       "      <td>2</td>\n",
       "      <td>2</td>\n",
       "      <td>34110</td>\n",
       "      <td>42</td>\n",
       "    </tr>\n",
       "    <tr>\n",
       "      <th>86</th>\n",
       "      <td>KP481</td>\n",
       "      <td>21</td>\n",
       "      <td>Male</td>\n",
       "      <td>12</td>\n",
       "      <td>Partnered</td>\n",
       "      <td>2</td>\n",
       "      <td>2</td>\n",
       "      <td>32973</td>\n",
       "      <td>53</td>\n",
       "    </tr>\n",
       "    <tr>\n",
       "      <th>87</th>\n",
       "      <td>KP481</td>\n",
       "      <td>23</td>\n",
       "      <td>Male</td>\n",
       "      <td>14</td>\n",
       "      <td>Partnered</td>\n",
       "      <td>3</td>\n",
       "      <td>3</td>\n",
       "      <td>36384</td>\n",
       "      <td>95</td>\n",
       "    </tr>\n",
       "    <tr>\n",
       "      <th>88</th>\n",
       "      <td>KP481</td>\n",
       "      <td>23</td>\n",
       "      <td>Male</td>\n",
       "      <td>14</td>\n",
       "      <td>Partnered</td>\n",
       "      <td>3</td>\n",
       "      <td>3</td>\n",
       "      <td>38658</td>\n",
       "      <td>85</td>\n",
       "    </tr>\n",
       "    <tr>\n",
       "      <th>89</th>\n",
       "      <td>KP481</td>\n",
       "      <td>23</td>\n",
       "      <td>Female</td>\n",
       "      <td>16</td>\n",
       "      <td>Single</td>\n",
       "      <td>3</td>\n",
       "      <td>3</td>\n",
       "      <td>45480</td>\n",
       "      <td>95</td>\n",
       "    </tr>\n",
       "  </tbody>\n",
       "</table>\n",
       "</div>"
      ],
      "text/plain": [
       "   Product  Age  Gender  Education MaritalStatus  Usage  Fitness  Income  \\\n",
       "80   KP481   19    Male         14        Single      3        3   31836   \n",
       "81   KP481   20    Male         14        Single      2        3   32973   \n",
       "82   KP481   20  Female         14     Partnered      3        3   34110   \n",
       "83   KP481   20    Male         14        Single      3        3   38658   \n",
       "84   KP481   21  Female         14     Partnered      5        4   34110   \n",
       "85   KP481   21    Male         16     Partnered      2        2   34110   \n",
       "86   KP481   21    Male         12     Partnered      2        2   32973   \n",
       "87   KP481   23    Male         14     Partnered      3        3   36384   \n",
       "88   KP481   23    Male         14     Partnered      3        3   38658   \n",
       "89   KP481   23  Female         16        Single      3        3   45480   \n",
       "\n",
       "    Miles  \n",
       "80     64  \n",
       "81     53  \n",
       "82    106  \n",
       "83     95  \n",
       "84    212  \n",
       "85     42  \n",
       "86     53  \n",
       "87     95  \n",
       "88     85  \n",
       "89     95  "
      ]
     },
     "execution_count": 62,
     "metadata": {},
     "output_type": "execute_result"
    }
   ],
   "source": [
    "kp_481=data.loc[data['Product']=='KP481']\n",
    "kp_481.head(10)"
   ]
  },
  {
   "cell_type": "code",
   "execution_count": 63,
   "id": "32d18c51",
   "metadata": {},
   "outputs": [
    {
     "data": {
      "text/html": [
       "<div>\n",
       "<style scoped>\n",
       "    .dataframe tbody tr th:only-of-type {\n",
       "        vertical-align: middle;\n",
       "    }\n",
       "\n",
       "    .dataframe tbody tr th {\n",
       "        vertical-align: top;\n",
       "    }\n",
       "\n",
       "    .dataframe thead th {\n",
       "        text-align: right;\n",
       "    }\n",
       "</style>\n",
       "<table border=\"1\" class=\"dataframe\">\n",
       "  <thead>\n",
       "    <tr style=\"text-align: right;\">\n",
       "      <th></th>\n",
       "      <th>Product</th>\n",
       "      <th>Age</th>\n",
       "      <th>Gender</th>\n",
       "      <th>Education</th>\n",
       "      <th>MaritalStatus</th>\n",
       "      <th>Usage</th>\n",
       "      <th>Fitness</th>\n",
       "      <th>Income</th>\n",
       "      <th>Miles</th>\n",
       "    </tr>\n",
       "  </thead>\n",
       "  <tbody>\n",
       "    <tr>\n",
       "      <th>140</th>\n",
       "      <td>KP781</td>\n",
       "      <td>22</td>\n",
       "      <td>Male</td>\n",
       "      <td>14</td>\n",
       "      <td>Single</td>\n",
       "      <td>4</td>\n",
       "      <td>3</td>\n",
       "      <td>48658</td>\n",
       "      <td>106</td>\n",
       "    </tr>\n",
       "    <tr>\n",
       "      <th>141</th>\n",
       "      <td>KP781</td>\n",
       "      <td>22</td>\n",
       "      <td>Male</td>\n",
       "      <td>16</td>\n",
       "      <td>Single</td>\n",
       "      <td>3</td>\n",
       "      <td>5</td>\n",
       "      <td>54781</td>\n",
       "      <td>120</td>\n",
       "    </tr>\n",
       "    <tr>\n",
       "      <th>142</th>\n",
       "      <td>KP781</td>\n",
       "      <td>22</td>\n",
       "      <td>Male</td>\n",
       "      <td>18</td>\n",
       "      <td>Single</td>\n",
       "      <td>4</td>\n",
       "      <td>5</td>\n",
       "      <td>48556</td>\n",
       "      <td>200</td>\n",
       "    </tr>\n",
       "    <tr>\n",
       "      <th>143</th>\n",
       "      <td>KP781</td>\n",
       "      <td>23</td>\n",
       "      <td>Male</td>\n",
       "      <td>16</td>\n",
       "      <td>Single</td>\n",
       "      <td>4</td>\n",
       "      <td>5</td>\n",
       "      <td>58516</td>\n",
       "      <td>140</td>\n",
       "    </tr>\n",
       "    <tr>\n",
       "      <th>144</th>\n",
       "      <td>KP781</td>\n",
       "      <td>23</td>\n",
       "      <td>Female</td>\n",
       "      <td>18</td>\n",
       "      <td>Single</td>\n",
       "      <td>5</td>\n",
       "      <td>4</td>\n",
       "      <td>53536</td>\n",
       "      <td>100</td>\n",
       "    </tr>\n",
       "    <tr>\n",
       "      <th>145</th>\n",
       "      <td>KP781</td>\n",
       "      <td>23</td>\n",
       "      <td>Male</td>\n",
       "      <td>16</td>\n",
       "      <td>Single</td>\n",
       "      <td>4</td>\n",
       "      <td>5</td>\n",
       "      <td>48556</td>\n",
       "      <td>100</td>\n",
       "    </tr>\n",
       "    <tr>\n",
       "      <th>146</th>\n",
       "      <td>KP781</td>\n",
       "      <td>24</td>\n",
       "      <td>Male</td>\n",
       "      <td>16</td>\n",
       "      <td>Single</td>\n",
       "      <td>4</td>\n",
       "      <td>5</td>\n",
       "      <td>61006</td>\n",
       "      <td>100</td>\n",
       "    </tr>\n",
       "    <tr>\n",
       "      <th>147</th>\n",
       "      <td>KP781</td>\n",
       "      <td>24</td>\n",
       "      <td>Male</td>\n",
       "      <td>18</td>\n",
       "      <td>Partnered</td>\n",
       "      <td>4</td>\n",
       "      <td>5</td>\n",
       "      <td>57271</td>\n",
       "      <td>80</td>\n",
       "    </tr>\n",
       "    <tr>\n",
       "      <th>148</th>\n",
       "      <td>KP781</td>\n",
       "      <td>24</td>\n",
       "      <td>Female</td>\n",
       "      <td>16</td>\n",
       "      <td>Single</td>\n",
       "      <td>5</td>\n",
       "      <td>5</td>\n",
       "      <td>52291</td>\n",
       "      <td>200</td>\n",
       "    </tr>\n",
       "    <tr>\n",
       "      <th>149</th>\n",
       "      <td>KP781</td>\n",
       "      <td>24</td>\n",
       "      <td>Male</td>\n",
       "      <td>16</td>\n",
       "      <td>Single</td>\n",
       "      <td>5</td>\n",
       "      <td>5</td>\n",
       "      <td>49801</td>\n",
       "      <td>160</td>\n",
       "    </tr>\n",
       "  </tbody>\n",
       "</table>\n",
       "</div>"
      ],
      "text/plain": [
       "    Product  Age  Gender  Education MaritalStatus  Usage  Fitness  Income  \\\n",
       "140   KP781   22    Male         14        Single      4        3   48658   \n",
       "141   KP781   22    Male         16        Single      3        5   54781   \n",
       "142   KP781   22    Male         18        Single      4        5   48556   \n",
       "143   KP781   23    Male         16        Single      4        5   58516   \n",
       "144   KP781   23  Female         18        Single      5        4   53536   \n",
       "145   KP781   23    Male         16        Single      4        5   48556   \n",
       "146   KP781   24    Male         16        Single      4        5   61006   \n",
       "147   KP781   24    Male         18     Partnered      4        5   57271   \n",
       "148   KP781   24  Female         16        Single      5        5   52291   \n",
       "149   KP781   24    Male         16        Single      5        5   49801   \n",
       "\n",
       "     Miles  \n",
       "140    106  \n",
       "141    120  \n",
       "142    200  \n",
       "143    140  \n",
       "144    100  \n",
       "145    100  \n",
       "146    100  \n",
       "147     80  \n",
       "148    200  \n",
       "149    160  "
      ]
     },
     "execution_count": 63,
     "metadata": {},
     "output_type": "execute_result"
    }
   ],
   "source": [
    "kp_781=data.loc[data['Product']=='KP781']\n",
    "kp_781.head(10)"
   ]
  },
  {
   "cell_type": "markdown",
   "id": "161ca1a5",
   "metadata": {},
   "source": [
    "###### Value count of gender of people using KP_281"
   ]
  },
  {
   "cell_type": "code",
   "execution_count": 64,
   "id": "052ca2b8",
   "metadata": {},
   "outputs": [
    {
     "data": {
      "text/plain": [
       "Female    40\n",
       "Male      40\n",
       "Name: Gender, dtype: int64"
      ]
     },
     "execution_count": 64,
     "metadata": {},
     "output_type": "execute_result"
    }
   ],
   "source": [
    "kp_281.Gender.value_counts()"
   ]
  },
  {
   "cell_type": "markdown",
   "id": "d5a6f3fd",
   "metadata": {},
   "source": [
    "###### Value count of gender of people using KP_481"
   ]
  },
  {
   "cell_type": "code",
   "execution_count": 65,
   "id": "58ee85aa",
   "metadata": {},
   "outputs": [
    {
     "data": {
      "text/plain": [
       "Male      31\n",
       "Female    29\n",
       "Name: Gender, dtype: int64"
      ]
     },
     "execution_count": 65,
     "metadata": {},
     "output_type": "execute_result"
    }
   ],
   "source": [
    "kp_481.Gender.value_counts()"
   ]
  },
  {
   "cell_type": "markdown",
   "id": "03782973",
   "metadata": {},
   "source": [
    "###### Value count of gender of people using KP_781"
   ]
  },
  {
   "cell_type": "code",
   "execution_count": 66,
   "id": "374523b9",
   "metadata": {},
   "outputs": [
    {
     "data": {
      "text/plain": [
       "Male      33\n",
       "Female     7\n",
       "Name: Gender, dtype: int64"
      ]
     },
     "execution_count": 66,
     "metadata": {},
     "output_type": "execute_result"
    }
   ],
   "source": [
    "kp_781.Gender.value_counts()"
   ]
  },
  {
   "cell_type": "markdown",
   "id": "38dc3a3c",
   "metadata": {},
   "source": [
    "###### Value count of MaritalStatus of people using KP_281"
   ]
  },
  {
   "cell_type": "code",
   "execution_count": 67,
   "id": "1bcffede",
   "metadata": {},
   "outputs": [
    {
     "data": {
      "text/plain": [
       "Partnered    48\n",
       "Single       32\n",
       "Name: MaritalStatus, dtype: int64"
      ]
     },
     "execution_count": 67,
     "metadata": {},
     "output_type": "execute_result"
    }
   ],
   "source": [
    "kp_281.MaritalStatus.value_counts()"
   ]
  },
  {
   "cell_type": "markdown",
   "id": "1acd4b9b",
   "metadata": {},
   "source": [
    "###### Value count of MaritalStatus of people using KP_481"
   ]
  },
  {
   "cell_type": "code",
   "execution_count": 68,
   "id": "76a148f9",
   "metadata": {},
   "outputs": [
    {
     "data": {
      "text/plain": [
       "Partnered    36\n",
       "Single       24\n",
       "Name: MaritalStatus, dtype: int64"
      ]
     },
     "execution_count": 68,
     "metadata": {},
     "output_type": "execute_result"
    }
   ],
   "source": [
    "kp_481.MaritalStatus.value_counts()"
   ]
  },
  {
   "cell_type": "markdown",
   "id": "55ce0b7e",
   "metadata": {},
   "source": [
    "###### Value count of MaritalStatus of people using KP_781"
   ]
  },
  {
   "cell_type": "code",
   "execution_count": 69,
   "id": "7922636b",
   "metadata": {},
   "outputs": [
    {
     "data": {
      "text/plain": [
       "Partnered    23\n",
       "Single       17\n",
       "Name: MaritalStatus, dtype: int64"
      ]
     },
     "execution_count": 69,
     "metadata": {},
     "output_type": "execute_result"
    }
   ],
   "source": [
    "kp_781.MaritalStatus.value_counts()"
   ]
  },
  {
   "cell_type": "markdown",
   "id": "e14e463f",
   "metadata": {},
   "source": [
    "###### Lengths of data"
   ]
  },
  {
   "cell_type": "code",
   "execution_count": 98,
   "id": "fc742f23",
   "metadata": {},
   "outputs": [],
   "source": [
    "dl=len(data)\n",
    "dl_281=len(kp_281)\n",
    "dl_481=len(kp_481)\n",
    "dl_781=len(kp_781)"
   ]
  },
  {
   "cell_type": "markdown",
   "id": "6584a996",
   "metadata": {},
   "source": [
    "###### Price of each products"
   ]
  },
  {
   "cell_type": "markdown",
   "id": "5f8d892e",
   "metadata": {},
   "source": [
    "Price of KP281 is $1,500. \n"
   ]
  },
  {
   "cell_type": "markdown",
   "id": "f8b87c8f",
   "metadata": {},
   "source": [
    "Price of KP481 is $1,750. \n"
   ]
  },
  {
   "cell_type": "markdown",
   "id": "f4630a5a",
   "metadata": {},
   "source": [
    "Price of KP781 is $2,500."
   ]
  },
  {
   "cell_type": "markdown",
   "id": "a8a31ccd",
   "metadata": {},
   "source": [
    "###### Total price obtained from selling product KP281"
   ]
  },
  {
   "cell_type": "code",
   "execution_count": 254,
   "id": "ca8f31bb",
   "metadata": {},
   "outputs": [
    {
     "data": {
      "text/plain": [
       "120000"
      ]
     },
     "execution_count": 254,
     "metadata": {},
     "output_type": "execute_result"
    }
   ],
   "source": [
    "price_281=1500*dl_281\n",
    "price_281"
   ]
  },
  {
   "cell_type": "markdown",
   "id": "c9baca9a",
   "metadata": {},
   "source": [
    "###### Total price obtained from selling product KP481"
   ]
  },
  {
   "cell_type": "code",
   "execution_count": 255,
   "id": "220beca0",
   "metadata": {},
   "outputs": [
    {
     "data": {
      "text/plain": [
       "105000"
      ]
     },
     "execution_count": 255,
     "metadata": {},
     "output_type": "execute_result"
    }
   ],
   "source": [
    "price_481=1750*dl_481\n",
    "price_481"
   ]
  },
  {
   "cell_type": "markdown",
   "id": "93c4255b",
   "metadata": {},
   "source": [
    "###### Total price obtained from selling product KP781"
   ]
  },
  {
   "cell_type": "code",
   "execution_count": 256,
   "id": "6017948a",
   "metadata": {},
   "outputs": [
    {
     "data": {
      "text/plain": [
       "100000"
      ]
     },
     "execution_count": 256,
     "metadata": {},
     "output_type": "execute_result"
    }
   ],
   "source": [
    "price_781=2500*dl_781\n",
    "price_781"
   ]
  },
  {
   "cell_type": "markdown",
   "id": "877b1eb9",
   "metadata": {},
   "source": [
    "###### Total price obtained from selling all the products"
   ]
  },
  {
   "cell_type": "code",
   "execution_count": 257,
   "id": "8e496772",
   "metadata": {},
   "outputs": [
    {
     "data": {
      "text/plain": [
       "325000"
      ]
     },
     "execution_count": 257,
     "metadata": {},
     "output_type": "execute_result"
    }
   ],
   "source": [
    "price_281+price_481+price_781"
   ]
  },
  {
   "cell_type": "code",
   "execution_count": 100,
   "id": "917ffba4",
   "metadata": {},
   "outputs": [
    {
     "name": "stdout",
     "output_type": "stream",
     "text": [
      "Total number of purchased products : 180\n",
      "Number of customers purchased product KP281 : 80\n",
      "Number of customers purchased product KP481 : 60\n",
      "Number of customers purchased product KP781 : 40\n"
     ]
    }
   ],
   "source": [
    "print(\"Total number of purchased products :\",dl)\n",
    "print(\"Number of customers purchased product KP281 :\",dl_281)\n",
    "print(\"Number of customers purchased product KP481 :\",dl_481)\n",
    "print(\"Number of customers purchased product KP781 :\",dl_781)"
   ]
  },
  {
   "cell_type": "markdown",
   "id": "5f35cd6b",
   "metadata": {},
   "source": [
    "###### Probability of customers who purchased product KP281"
   ]
  },
  {
   "cell_type": "code",
   "execution_count": 107,
   "id": "c865c795",
   "metadata": {},
   "outputs": [
    {
     "data": {
      "text/plain": [
       "44.44444444444444"
      ]
     },
     "execution_count": 107,
     "metadata": {},
     "output_type": "execute_result"
    }
   ],
   "source": [
    "p_KP281=(dl_281/dl)*100\n",
    "p_KP281"
   ]
  },
  {
   "cell_type": "markdown",
   "id": "062c8081",
   "metadata": {},
   "source": [
    "###### Probability of customers who purchased product KP481"
   ]
  },
  {
   "cell_type": "code",
   "execution_count": 109,
   "id": "b75678ea",
   "metadata": {},
   "outputs": [
    {
     "data": {
      "text/plain": [
       "33.33333333333333"
      ]
     },
     "execution_count": 109,
     "metadata": {},
     "output_type": "execute_result"
    }
   ],
   "source": [
    "p_KP481=(dl_481/dl)*100\n",
    "p_KP481"
   ]
  },
  {
   "cell_type": "markdown",
   "id": "fef1cbe8",
   "metadata": {},
   "source": [
    "###### Probability of customers who purchased product KP781"
   ]
  },
  {
   "cell_type": "code",
   "execution_count": 111,
   "id": "81395953",
   "metadata": {},
   "outputs": [
    {
     "data": {
      "text/plain": [
       "22.22222222222222"
      ]
     },
     "execution_count": 111,
     "metadata": {},
     "output_type": "execute_result"
    }
   ],
   "source": [
    "p_KP781=(dl_781/dl)*100\n",
    "p_KP781"
   ]
  },
  {
   "cell_type": "markdown",
   "id": "01f2edaa",
   "metadata": {},
   "source": [
    "<b>Insights :</b><br>\n",
    "###### ---> Based on the observation we can say that the probability of customers purchasing KP281 is 44.4% of the total observations.\n",
    "###### ---> Based on the observation we can say that the probability of customers purchasing KP481 is 33.3% of the total observations.\n",
    "###### ---> Based on the observation we can say that the probability of customers purchasing KP781 is 22.2% of the total observations.\n",
    "###### ---> Based on the observation we can say that the probability of customers purchasing KP281 is more"
   ]
  },
  {
   "cell_type": "markdown",
   "id": "66f5af9b",
   "metadata": {},
   "source": [
    "###### Probability of purchasing product based on Age."
   ]
  },
  {
   "cell_type": "code",
   "execution_count": 232,
   "id": "2e5e8242",
   "metadata": {},
   "outputs": [],
   "source": [
    "df=data.copy()"
   ]
  },
  {
   "cell_type": "code",
   "execution_count": 233,
   "id": "29d85b0d",
   "metadata": {},
   "outputs": [
    {
     "name": "stdout",
     "output_type": "stream",
     "text": [
      "Minimum age: 18\n",
      "Maximum age: 50\n"
     ]
    }
   ],
   "source": [
    "print('Minimum age:',df['Age'].min())\n",
    "print('Maximum age:',df['Age'].max())"
   ]
  },
  {
   "cell_type": "code",
   "execution_count": 234,
   "id": "d0234391",
   "metadata": {},
   "outputs": [
    {
     "data": {
      "text/html": [
       "<div>\n",
       "<style scoped>\n",
       "    .dataframe tbody tr th:only-of-type {\n",
       "        vertical-align: middle;\n",
       "    }\n",
       "\n",
       "    .dataframe tbody tr th {\n",
       "        vertical-align: top;\n",
       "    }\n",
       "\n",
       "    .dataframe thead th {\n",
       "        text-align: right;\n",
       "    }\n",
       "</style>\n",
       "<table border=\"1\" class=\"dataframe\">\n",
       "  <thead>\n",
       "    <tr style=\"text-align: right;\">\n",
       "      <th></th>\n",
       "      <th>Product</th>\n",
       "      <th>Age</th>\n",
       "      <th>Gender</th>\n",
       "      <th>Education</th>\n",
       "      <th>MaritalStatus</th>\n",
       "      <th>Usage</th>\n",
       "      <th>Fitness</th>\n",
       "      <th>Income</th>\n",
       "      <th>Miles</th>\n",
       "    </tr>\n",
       "  </thead>\n",
       "  <tbody>\n",
       "    <tr>\n",
       "      <th>0</th>\n",
       "      <td>KP281</td>\n",
       "      <td>18-25</td>\n",
       "      <td>Male</td>\n",
       "      <td>14</td>\n",
       "      <td>Single</td>\n",
       "      <td>3</td>\n",
       "      <td>4</td>\n",
       "      <td>29562</td>\n",
       "      <td>112</td>\n",
       "    </tr>\n",
       "    <tr>\n",
       "      <th>1</th>\n",
       "      <td>KP281</td>\n",
       "      <td>18-25</td>\n",
       "      <td>Male</td>\n",
       "      <td>15</td>\n",
       "      <td>Single</td>\n",
       "      <td>2</td>\n",
       "      <td>3</td>\n",
       "      <td>31836</td>\n",
       "      <td>75</td>\n",
       "    </tr>\n",
       "    <tr>\n",
       "      <th>2</th>\n",
       "      <td>KP281</td>\n",
       "      <td>18-25</td>\n",
       "      <td>Female</td>\n",
       "      <td>14</td>\n",
       "      <td>Partnered</td>\n",
       "      <td>4</td>\n",
       "      <td>3</td>\n",
       "      <td>30699</td>\n",
       "      <td>66</td>\n",
       "    </tr>\n",
       "    <tr>\n",
       "      <th>3</th>\n",
       "      <td>KP281</td>\n",
       "      <td>18-25</td>\n",
       "      <td>Male</td>\n",
       "      <td>12</td>\n",
       "      <td>Single</td>\n",
       "      <td>3</td>\n",
       "      <td>3</td>\n",
       "      <td>32973</td>\n",
       "      <td>85</td>\n",
       "    </tr>\n",
       "    <tr>\n",
       "      <th>4</th>\n",
       "      <td>KP281</td>\n",
       "      <td>18-25</td>\n",
       "      <td>Male</td>\n",
       "      <td>13</td>\n",
       "      <td>Partnered</td>\n",
       "      <td>4</td>\n",
       "      <td>2</td>\n",
       "      <td>35247</td>\n",
       "      <td>47</td>\n",
       "    </tr>\n",
       "    <tr>\n",
       "      <th>...</th>\n",
       "      <td>...</td>\n",
       "      <td>...</td>\n",
       "      <td>...</td>\n",
       "      <td>...</td>\n",
       "      <td>...</td>\n",
       "      <td>...</td>\n",
       "      <td>...</td>\n",
       "      <td>...</td>\n",
       "      <td>...</td>\n",
       "    </tr>\n",
       "    <tr>\n",
       "      <th>175</th>\n",
       "      <td>KP781</td>\n",
       "      <td>35-45</td>\n",
       "      <td>Male</td>\n",
       "      <td>21</td>\n",
       "      <td>Single</td>\n",
       "      <td>6</td>\n",
       "      <td>5</td>\n",
       "      <td>83416</td>\n",
       "      <td>200</td>\n",
       "    </tr>\n",
       "    <tr>\n",
       "      <th>176</th>\n",
       "      <td>KP781</td>\n",
       "      <td>35-45</td>\n",
       "      <td>Male</td>\n",
       "      <td>18</td>\n",
       "      <td>Single</td>\n",
       "      <td>5</td>\n",
       "      <td>4</td>\n",
       "      <td>89641</td>\n",
       "      <td>200</td>\n",
       "    </tr>\n",
       "    <tr>\n",
       "      <th>177</th>\n",
       "      <td>KP781</td>\n",
       "      <td>35-45</td>\n",
       "      <td>Male</td>\n",
       "      <td>16</td>\n",
       "      <td>Single</td>\n",
       "      <td>5</td>\n",
       "      <td>5</td>\n",
       "      <td>90886</td>\n",
       "      <td>160</td>\n",
       "    </tr>\n",
       "    <tr>\n",
       "      <th>178</th>\n",
       "      <td>KP781</td>\n",
       "      <td>45-55</td>\n",
       "      <td>Male</td>\n",
       "      <td>18</td>\n",
       "      <td>Partnered</td>\n",
       "      <td>4</td>\n",
       "      <td>5</td>\n",
       "      <td>104581</td>\n",
       "      <td>120</td>\n",
       "    </tr>\n",
       "    <tr>\n",
       "      <th>179</th>\n",
       "      <td>KP781</td>\n",
       "      <td>45-55</td>\n",
       "      <td>Male</td>\n",
       "      <td>18</td>\n",
       "      <td>Partnered</td>\n",
       "      <td>4</td>\n",
       "      <td>5</td>\n",
       "      <td>95508</td>\n",
       "      <td>180</td>\n",
       "    </tr>\n",
       "  </tbody>\n",
       "</table>\n",
       "<p>180 rows × 9 columns</p>\n",
       "</div>"
      ],
      "text/plain": [
       "    Product    Age  Gender  Education MaritalStatus  Usage  Fitness  Income  \\\n",
       "0     KP281  18-25    Male         14        Single      3        4   29562   \n",
       "1     KP281  18-25    Male         15        Single      2        3   31836   \n",
       "2     KP281  18-25  Female         14     Partnered      4        3   30699   \n",
       "3     KP281  18-25    Male         12        Single      3        3   32973   \n",
       "4     KP281  18-25    Male         13     Partnered      4        2   35247   \n",
       "..      ...    ...     ...        ...           ...    ...      ...     ...   \n",
       "175   KP781  35-45    Male         21        Single      6        5   83416   \n",
       "176   KP781  35-45    Male         18        Single      5        4   89641   \n",
       "177   KP781  35-45    Male         16        Single      5        5   90886   \n",
       "178   KP781  45-55    Male         18     Partnered      4        5  104581   \n",
       "179   KP781  45-55    Male         18     Partnered      4        5   95508   \n",
       "\n",
       "     Miles  \n",
       "0      112  \n",
       "1       75  \n",
       "2       66  \n",
       "3       85  \n",
       "4       47  \n",
       "..     ...  \n",
       "175    200  \n",
       "176    200  \n",
       "177    160  \n",
       "178    120  \n",
       "179    180  \n",
       "\n",
       "[180 rows x 9 columns]"
      ]
     },
     "execution_count": 234,
     "metadata": {},
     "output_type": "execute_result"
    }
   ],
   "source": [
    "bin1 = [17,25,35,45,55]\n",
    "label1 = ['18-25','25-35','35-45','45-55']\n",
    "df['Age'] = pd.cut(df['Age'],bins=bin1,labels=label1)\n",
    "df"
   ]
  },
  {
   "cell_type": "code",
   "execution_count": 235,
   "id": "66bdff47",
   "metadata": {},
   "outputs": [],
   "source": [
    "da=pd.crosstab(df['Age'],df['Product'],margins=True)"
   ]
  },
  {
   "cell_type": "code",
   "execution_count": 236,
   "id": "6669384f",
   "metadata": {},
   "outputs": [
    {
     "data": {
      "text/html": [
       "<div>\n",
       "<style scoped>\n",
       "    .dataframe tbody tr th:only-of-type {\n",
       "        vertical-align: middle;\n",
       "    }\n",
       "\n",
       "    .dataframe tbody tr th {\n",
       "        vertical-align: top;\n",
       "    }\n",
       "\n",
       "    .dataframe thead th {\n",
       "        text-align: right;\n",
       "    }\n",
       "</style>\n",
       "<table border=\"1\" class=\"dataframe\">\n",
       "  <thead>\n",
       "    <tr style=\"text-align: right;\">\n",
       "      <th>Product</th>\n",
       "      <th>KP281</th>\n",
       "      <th>KP481</th>\n",
       "      <th>KP781</th>\n",
       "      <th>All</th>\n",
       "    </tr>\n",
       "    <tr>\n",
       "      <th>Age</th>\n",
       "      <th></th>\n",
       "      <th></th>\n",
       "      <th></th>\n",
       "      <th></th>\n",
       "    </tr>\n",
       "  </thead>\n",
       "  <tbody>\n",
       "    <tr>\n",
       "      <th>18-25</th>\n",
       "      <td>34</td>\n",
       "      <td>28</td>\n",
       "      <td>17</td>\n",
       "      <td>79</td>\n",
       "    </tr>\n",
       "    <tr>\n",
       "      <th>25-35</th>\n",
       "      <td>32</td>\n",
       "      <td>24</td>\n",
       "      <td>17</td>\n",
       "      <td>73</td>\n",
       "    </tr>\n",
       "    <tr>\n",
       "      <th>35-45</th>\n",
       "      <td>11</td>\n",
       "      <td>7</td>\n",
       "      <td>4</td>\n",
       "      <td>22</td>\n",
       "    </tr>\n",
       "    <tr>\n",
       "      <th>45-55</th>\n",
       "      <td>3</td>\n",
       "      <td>1</td>\n",
       "      <td>2</td>\n",
       "      <td>6</td>\n",
       "    </tr>\n",
       "    <tr>\n",
       "      <th>All</th>\n",
       "      <td>80</td>\n",
       "      <td>60</td>\n",
       "      <td>40</td>\n",
       "      <td>180</td>\n",
       "    </tr>\n",
       "  </tbody>\n",
       "</table>\n",
       "</div>"
      ],
      "text/plain": [
       "Product  KP281  KP481  KP781  All\n",
       "Age                              \n",
       "18-25       34     28     17   79\n",
       "25-35       32     24     17   73\n",
       "35-45       11      7      4   22\n",
       "45-55        3      1      2    6\n",
       "All         80     60     40  180"
      ]
     },
     "execution_count": 236,
     "metadata": {},
     "output_type": "execute_result"
    }
   ],
   "source": [
    "da"
   ]
  },
  {
   "cell_type": "code",
   "execution_count": 237,
   "id": "e1131075",
   "metadata": {},
   "outputs": [],
   "source": [
    "da['P(KP281 | Age )']=(da.KP281/da.All)*100"
   ]
  },
  {
   "cell_type": "code",
   "execution_count": 238,
   "id": "5bcc2ff7",
   "metadata": {},
   "outputs": [],
   "source": [
    "da['P(KP481 | Age )']=(da.KP481/da.All)*100"
   ]
  },
  {
   "cell_type": "code",
   "execution_count": 239,
   "id": "b8f88ec0",
   "metadata": {},
   "outputs": [],
   "source": [
    "da['P(KP781 | Age )']=(da.KP781/da.All)*100"
   ]
  },
  {
   "cell_type": "code",
   "execution_count": 241,
   "id": "5abb46ae",
   "metadata": {},
   "outputs": [
    {
     "data": {
      "text/html": [
       "<div>\n",
       "<style scoped>\n",
       "    .dataframe tbody tr th:only-of-type {\n",
       "        vertical-align: middle;\n",
       "    }\n",
       "\n",
       "    .dataframe tbody tr th {\n",
       "        vertical-align: top;\n",
       "    }\n",
       "\n",
       "    .dataframe thead th {\n",
       "        text-align: right;\n",
       "    }\n",
       "</style>\n",
       "<table border=\"1\" class=\"dataframe\">\n",
       "  <thead>\n",
       "    <tr style=\"text-align: right;\">\n",
       "      <th>Product</th>\n",
       "      <th>KP281</th>\n",
       "      <th>KP481</th>\n",
       "      <th>KP781</th>\n",
       "      <th>All</th>\n",
       "      <th>P(KP281 | Age )</th>\n",
       "      <th>P(KP481 | Age )</th>\n",
       "      <th>P(KP781 | Age )</th>\n",
       "    </tr>\n",
       "    <tr>\n",
       "      <th>Age</th>\n",
       "      <th></th>\n",
       "      <th></th>\n",
       "      <th></th>\n",
       "      <th></th>\n",
       "      <th></th>\n",
       "      <th></th>\n",
       "      <th></th>\n",
       "    </tr>\n",
       "  </thead>\n",
       "  <tbody>\n",
       "    <tr>\n",
       "      <th>18-25</th>\n",
       "      <td>34</td>\n",
       "      <td>28</td>\n",
       "      <td>17</td>\n",
       "      <td>79</td>\n",
       "      <td>43.04</td>\n",
       "      <td>35.44</td>\n",
       "      <td>21.52</td>\n",
       "    </tr>\n",
       "    <tr>\n",
       "      <th>25-35</th>\n",
       "      <td>32</td>\n",
       "      <td>24</td>\n",
       "      <td>17</td>\n",
       "      <td>73</td>\n",
       "      <td>43.84</td>\n",
       "      <td>32.88</td>\n",
       "      <td>23.29</td>\n",
       "    </tr>\n",
       "    <tr>\n",
       "      <th>35-45</th>\n",
       "      <td>11</td>\n",
       "      <td>7</td>\n",
       "      <td>4</td>\n",
       "      <td>22</td>\n",
       "      <td>50.00</td>\n",
       "      <td>31.82</td>\n",
       "      <td>18.18</td>\n",
       "    </tr>\n",
       "    <tr>\n",
       "      <th>45-55</th>\n",
       "      <td>3</td>\n",
       "      <td>1</td>\n",
       "      <td>2</td>\n",
       "      <td>6</td>\n",
       "      <td>50.00</td>\n",
       "      <td>16.67</td>\n",
       "      <td>33.33</td>\n",
       "    </tr>\n",
       "    <tr>\n",
       "      <th>All</th>\n",
       "      <td>80</td>\n",
       "      <td>60</td>\n",
       "      <td>40</td>\n",
       "      <td>180</td>\n",
       "      <td>44.44</td>\n",
       "      <td>33.33</td>\n",
       "      <td>22.22</td>\n",
       "    </tr>\n",
       "  </tbody>\n",
       "</table>\n",
       "</div>"
      ],
      "text/plain": [
       "Product  KP281  KP481  KP781  All  P(KP281 | Age )  P(KP481 | Age )  \\\n",
       "Age                                                                   \n",
       "18-25       34     28     17   79            43.04            35.44   \n",
       "25-35       32     24     17   73            43.84            32.88   \n",
       "35-45       11      7      4   22            50.00            31.82   \n",
       "45-55        3      1      2    6            50.00            16.67   \n",
       "All         80     60     40  180            44.44            33.33   \n",
       "\n",
       "Product  P(KP781 | Age )  \n",
       "Age                       \n",
       "18-25              21.52  \n",
       "25-35              23.29  \n",
       "35-45              18.18  \n",
       "45-55              33.33  \n",
       "All                22.22  "
      ]
     },
     "execution_count": 241,
     "metadata": {},
     "output_type": "execute_result"
    }
   ],
   "source": [
    "da.round(2)"
   ]
  },
  {
   "cell_type": "markdown",
   "id": "d58cf627",
   "metadata": {},
   "source": [
    "<b>Insights :</b><br>\n",
    "###### ---> Based on the observation we can say that age from 18 - 25  \n",
    "<b>43.04% purchased KP281 \n",
    "<br>35.44% purchased KP481\n",
    "<br>21.52% purchased KP781</b>\n",
    "###### ---> Based on the observation we can say that age from 25 - 35  \n",
    "<b>43.84% purchased KP281 \n",
    "<br>32.88% purchased KP481\n",
    "<br>23.29% purchased KP781</b>\n",
    "###### ---> Based on the observation we can say that age from 35 - 45  \n",
    "<b>50.00% purchased KP281 \n",
    "<br>31.82% purchased KP481\n",
    "<br>18.18% purchased KP781</b>\n",
    "###### ---> Based on the observation we can say that age from 45 - 55  \n",
    "<b>50.00% purchased KP281 \n",
    "<br>16.67% purchased KP481\n",
    "<br>33.33% purchased KP781</b>"
   ]
  },
  {
   "cell_type": "markdown",
   "id": "e74cc8b7",
   "metadata": {},
   "source": [
    "###### Probability of purchasing product based on Gender."
   ]
  },
  {
   "cell_type": "code",
   "execution_count": 170,
   "id": "c8d54f88",
   "metadata": {},
   "outputs": [],
   "source": [
    "dg=pd.crosstab(df['Gender'],df['Product'],margins=True)"
   ]
  },
  {
   "cell_type": "code",
   "execution_count": 171,
   "id": "bf0463d3",
   "metadata": {},
   "outputs": [
    {
     "data": {
      "text/html": [
       "<div>\n",
       "<style scoped>\n",
       "    .dataframe tbody tr th:only-of-type {\n",
       "        vertical-align: middle;\n",
       "    }\n",
       "\n",
       "    .dataframe tbody tr th {\n",
       "        vertical-align: top;\n",
       "    }\n",
       "\n",
       "    .dataframe thead th {\n",
       "        text-align: right;\n",
       "    }\n",
       "</style>\n",
       "<table border=\"1\" class=\"dataframe\">\n",
       "  <thead>\n",
       "    <tr style=\"text-align: right;\">\n",
       "      <th>Product</th>\n",
       "      <th>KP281</th>\n",
       "      <th>KP481</th>\n",
       "      <th>KP781</th>\n",
       "      <th>All</th>\n",
       "    </tr>\n",
       "    <tr>\n",
       "      <th>Gender</th>\n",
       "      <th></th>\n",
       "      <th></th>\n",
       "      <th></th>\n",
       "      <th></th>\n",
       "    </tr>\n",
       "  </thead>\n",
       "  <tbody>\n",
       "    <tr>\n",
       "      <th>Female</th>\n",
       "      <td>40</td>\n",
       "      <td>29</td>\n",
       "      <td>7</td>\n",
       "      <td>76</td>\n",
       "    </tr>\n",
       "    <tr>\n",
       "      <th>Male</th>\n",
       "      <td>40</td>\n",
       "      <td>31</td>\n",
       "      <td>33</td>\n",
       "      <td>104</td>\n",
       "    </tr>\n",
       "    <tr>\n",
       "      <th>All</th>\n",
       "      <td>80</td>\n",
       "      <td>60</td>\n",
       "      <td>40</td>\n",
       "      <td>180</td>\n",
       "    </tr>\n",
       "  </tbody>\n",
       "</table>\n",
       "</div>"
      ],
      "text/plain": [
       "Product  KP281  KP481  KP781  All\n",
       "Gender                           \n",
       "Female      40     29      7   76\n",
       "Male        40     31     33  104\n",
       "All         80     60     40  180"
      ]
     },
     "execution_count": 171,
     "metadata": {},
     "output_type": "execute_result"
    }
   ],
   "source": [
    "dg"
   ]
  },
  {
   "cell_type": "code",
   "execution_count": 172,
   "id": "b99e1e97",
   "metadata": {},
   "outputs": [],
   "source": [
    "dg['P(KP281 | Gender )']=(dg.KP281/dg.All)*100"
   ]
  },
  {
   "cell_type": "code",
   "execution_count": 173,
   "id": "b50fcc3e",
   "metadata": {},
   "outputs": [],
   "source": [
    "dg['P(KP481 | Gender )']=(dg.KP481/dg.All)*100"
   ]
  },
  {
   "cell_type": "code",
   "execution_count": 174,
   "id": "089cb2c8",
   "metadata": {},
   "outputs": [],
   "source": [
    "dg['P(KP781 | Gender )']=(dg.KP781/dg.All)*100"
   ]
  },
  {
   "cell_type": "code",
   "execution_count": 177,
   "id": "807d09ba",
   "metadata": {},
   "outputs": [
    {
     "data": {
      "text/html": [
       "<div>\n",
       "<style scoped>\n",
       "    .dataframe tbody tr th:only-of-type {\n",
       "        vertical-align: middle;\n",
       "    }\n",
       "\n",
       "    .dataframe tbody tr th {\n",
       "        vertical-align: top;\n",
       "    }\n",
       "\n",
       "    .dataframe thead th {\n",
       "        text-align: right;\n",
       "    }\n",
       "</style>\n",
       "<table border=\"1\" class=\"dataframe\">\n",
       "  <thead>\n",
       "    <tr style=\"text-align: right;\">\n",
       "      <th>Product</th>\n",
       "      <th>KP281</th>\n",
       "      <th>KP481</th>\n",
       "      <th>KP781</th>\n",
       "      <th>All</th>\n",
       "      <th>P(KP281 | Gender )</th>\n",
       "      <th>P(KP481 | Gender )</th>\n",
       "      <th>P(KP781 | Gender )</th>\n",
       "    </tr>\n",
       "    <tr>\n",
       "      <th>Gender</th>\n",
       "      <th></th>\n",
       "      <th></th>\n",
       "      <th></th>\n",
       "      <th></th>\n",
       "      <th></th>\n",
       "      <th></th>\n",
       "      <th></th>\n",
       "    </tr>\n",
       "  </thead>\n",
       "  <tbody>\n",
       "    <tr>\n",
       "      <th>Female</th>\n",
       "      <td>40</td>\n",
       "      <td>29</td>\n",
       "      <td>7</td>\n",
       "      <td>76</td>\n",
       "      <td>52.63</td>\n",
       "      <td>38.16</td>\n",
       "      <td>9.21</td>\n",
       "    </tr>\n",
       "    <tr>\n",
       "      <th>Male</th>\n",
       "      <td>40</td>\n",
       "      <td>31</td>\n",
       "      <td>33</td>\n",
       "      <td>104</td>\n",
       "      <td>38.46</td>\n",
       "      <td>29.81</td>\n",
       "      <td>31.73</td>\n",
       "    </tr>\n",
       "    <tr>\n",
       "      <th>All</th>\n",
       "      <td>80</td>\n",
       "      <td>60</td>\n",
       "      <td>40</td>\n",
       "      <td>180</td>\n",
       "      <td>44.44</td>\n",
       "      <td>33.33</td>\n",
       "      <td>22.22</td>\n",
       "    </tr>\n",
       "  </tbody>\n",
       "</table>\n",
       "</div>"
      ],
      "text/plain": [
       "Product  KP281  KP481  KP781  All  P(KP281 | Gender )  P(KP481 | Gender )  \\\n",
       "Gender                                                                      \n",
       "Female      40     29      7   76               52.63               38.16   \n",
       "Male        40     31     33  104               38.46               29.81   \n",
       "All         80     60     40  180               44.44               33.33   \n",
       "\n",
       "Product  P(KP781 | Gender )  \n",
       "Gender                       \n",
       "Female                 9.21  \n",
       "Male                  31.73  \n",
       "All                   22.22  "
      ]
     },
     "execution_count": 177,
     "metadata": {},
     "output_type": "execute_result"
    }
   ],
   "source": [
    "dg.round(2)"
   ]
  },
  {
   "cell_type": "markdown",
   "id": "de5a8f4b",
   "metadata": {},
   "source": [
    "<b>Insights :</b><br>\n",
    "###### ---> Based on the observation we can say that 52.63% of Female purchased KP281 ,38.16% of  Female purchased KP481 and 9.21% of Female purchased KP781.\n",
    "###### ---> Based on the observation we can say that 38.46\t% of Male purchased KP281 ,29.81% of  Male purchased KP481 and 31.73% of Male purchased KP781."
   ]
  },
  {
   "cell_type": "markdown",
   "id": "d2a29c0e",
   "metadata": {},
   "source": [
    "###### Probability of purchasing product based on Marital Status."
   ]
  },
  {
   "cell_type": "code",
   "execution_count": 183,
   "id": "6b805d56",
   "metadata": {},
   "outputs": [],
   "source": [
    "dm=pd.crosstab(df['MaritalStatus'],df['Product'],margins=True)"
   ]
  },
  {
   "cell_type": "code",
   "execution_count": 184,
   "id": "5fb611be",
   "metadata": {},
   "outputs": [
    {
     "data": {
      "text/html": [
       "<div>\n",
       "<style scoped>\n",
       "    .dataframe tbody tr th:only-of-type {\n",
       "        vertical-align: middle;\n",
       "    }\n",
       "\n",
       "    .dataframe tbody tr th {\n",
       "        vertical-align: top;\n",
       "    }\n",
       "\n",
       "    .dataframe thead th {\n",
       "        text-align: right;\n",
       "    }\n",
       "</style>\n",
       "<table border=\"1\" class=\"dataframe\">\n",
       "  <thead>\n",
       "    <tr style=\"text-align: right;\">\n",
       "      <th>Product</th>\n",
       "      <th>KP281</th>\n",
       "      <th>KP481</th>\n",
       "      <th>KP781</th>\n",
       "      <th>All</th>\n",
       "    </tr>\n",
       "    <tr>\n",
       "      <th>MaritalStatus</th>\n",
       "      <th></th>\n",
       "      <th></th>\n",
       "      <th></th>\n",
       "      <th></th>\n",
       "    </tr>\n",
       "  </thead>\n",
       "  <tbody>\n",
       "    <tr>\n",
       "      <th>Partnered</th>\n",
       "      <td>48</td>\n",
       "      <td>36</td>\n",
       "      <td>23</td>\n",
       "      <td>107</td>\n",
       "    </tr>\n",
       "    <tr>\n",
       "      <th>Single</th>\n",
       "      <td>32</td>\n",
       "      <td>24</td>\n",
       "      <td>17</td>\n",
       "      <td>73</td>\n",
       "    </tr>\n",
       "    <tr>\n",
       "      <th>All</th>\n",
       "      <td>80</td>\n",
       "      <td>60</td>\n",
       "      <td>40</td>\n",
       "      <td>180</td>\n",
       "    </tr>\n",
       "  </tbody>\n",
       "</table>\n",
       "</div>"
      ],
      "text/plain": [
       "Product        KP281  KP481  KP781  All\n",
       "MaritalStatus                          \n",
       "Partnered         48     36     23  107\n",
       "Single            32     24     17   73\n",
       "All               80     60     40  180"
      ]
     },
     "execution_count": 184,
     "metadata": {},
     "output_type": "execute_result"
    }
   ],
   "source": [
    "dm"
   ]
  },
  {
   "cell_type": "code",
   "execution_count": 185,
   "id": "fbc47207",
   "metadata": {},
   "outputs": [],
   "source": [
    "dm['P(KP281 | MaritalStatus )']=(dm.KP281/dm.All)*100"
   ]
  },
  {
   "cell_type": "code",
   "execution_count": 186,
   "id": "81a2959d",
   "metadata": {},
   "outputs": [],
   "source": [
    "dm['P(KP481 | MaritalStatus )']=(dm.KP481/dm.All)*100"
   ]
  },
  {
   "cell_type": "code",
   "execution_count": 187,
   "id": "4281e704",
   "metadata": {},
   "outputs": [],
   "source": [
    "dm['P(KP781 | MaritalStatus )']=(dm.KP781/dm.All)*100"
   ]
  },
  {
   "cell_type": "code",
   "execution_count": 188,
   "id": "b740e419",
   "metadata": {},
   "outputs": [
    {
     "data": {
      "text/html": [
       "<div>\n",
       "<style scoped>\n",
       "    .dataframe tbody tr th:only-of-type {\n",
       "        vertical-align: middle;\n",
       "    }\n",
       "\n",
       "    .dataframe tbody tr th {\n",
       "        vertical-align: top;\n",
       "    }\n",
       "\n",
       "    .dataframe thead th {\n",
       "        text-align: right;\n",
       "    }\n",
       "</style>\n",
       "<table border=\"1\" class=\"dataframe\">\n",
       "  <thead>\n",
       "    <tr style=\"text-align: right;\">\n",
       "      <th>Product</th>\n",
       "      <th>KP281</th>\n",
       "      <th>KP481</th>\n",
       "      <th>KP781</th>\n",
       "      <th>All</th>\n",
       "      <th>P(KP281 | MaritalStatus )</th>\n",
       "      <th>P(KP481 | MaritalStatus )</th>\n",
       "      <th>P(KP781 | MaritalStatus )</th>\n",
       "    </tr>\n",
       "    <tr>\n",
       "      <th>MaritalStatus</th>\n",
       "      <th></th>\n",
       "      <th></th>\n",
       "      <th></th>\n",
       "      <th></th>\n",
       "      <th></th>\n",
       "      <th></th>\n",
       "      <th></th>\n",
       "    </tr>\n",
       "  </thead>\n",
       "  <tbody>\n",
       "    <tr>\n",
       "      <th>Partnered</th>\n",
       "      <td>48</td>\n",
       "      <td>36</td>\n",
       "      <td>23</td>\n",
       "      <td>107</td>\n",
       "      <td>44.86</td>\n",
       "      <td>33.64</td>\n",
       "      <td>21.50</td>\n",
       "    </tr>\n",
       "    <tr>\n",
       "      <th>Single</th>\n",
       "      <td>32</td>\n",
       "      <td>24</td>\n",
       "      <td>17</td>\n",
       "      <td>73</td>\n",
       "      <td>43.84</td>\n",
       "      <td>32.88</td>\n",
       "      <td>23.29</td>\n",
       "    </tr>\n",
       "    <tr>\n",
       "      <th>All</th>\n",
       "      <td>80</td>\n",
       "      <td>60</td>\n",
       "      <td>40</td>\n",
       "      <td>180</td>\n",
       "      <td>44.44</td>\n",
       "      <td>33.33</td>\n",
       "      <td>22.22</td>\n",
       "    </tr>\n",
       "  </tbody>\n",
       "</table>\n",
       "</div>"
      ],
      "text/plain": [
       "Product        KP281  KP481  KP781  All  P(KP281 | MaritalStatus )  \\\n",
       "MaritalStatus                                                        \n",
       "Partnered         48     36     23  107                      44.86   \n",
       "Single            32     24     17   73                      43.84   \n",
       "All               80     60     40  180                      44.44   \n",
       "\n",
       "Product        P(KP481 | MaritalStatus )  P(KP781 | MaritalStatus )  \n",
       "MaritalStatus                                                        \n",
       "Partnered                          33.64                      21.50  \n",
       "Single                             32.88                      23.29  \n",
       "All                                33.33                      22.22  "
      ]
     },
     "execution_count": 188,
     "metadata": {},
     "output_type": "execute_result"
    }
   ],
   "source": [
    "dm.round(2)"
   ]
  },
  {
   "cell_type": "markdown",
   "id": "dc57a2b2",
   "metadata": {},
   "source": [
    "<b>Insights :</b><br>\n",
    "###### ---> Based on the observation we can say that 44.86% of Partnered purchased KP281 ,33.64% of  Partnered purchased KP481 and 21.50% of Partnered purchased KP781.\n",
    "###### ---> Based on the observation we can say that 43.84% of Single purchased KP281 ,32.88% of  Single purchased KP481 and 23.29% of Single purchased KP781."
   ]
  },
  {
   "cell_type": "code",
   "execution_count": 248,
   "id": "619013a1",
   "metadata": {},
   "outputs": [],
   "source": [
    "data_corr=data.corr()"
   ]
  },
  {
   "cell_type": "code",
   "execution_count": 249,
   "id": "b02e7b20",
   "metadata": {},
   "outputs": [
    {
     "data": {
      "text/html": [
       "<div>\n",
       "<style scoped>\n",
       "    .dataframe tbody tr th:only-of-type {\n",
       "        vertical-align: middle;\n",
       "    }\n",
       "\n",
       "    .dataframe tbody tr th {\n",
       "        vertical-align: top;\n",
       "    }\n",
       "\n",
       "    .dataframe thead th {\n",
       "        text-align: right;\n",
       "    }\n",
       "</style>\n",
       "<table border=\"1\" class=\"dataframe\">\n",
       "  <thead>\n",
       "    <tr style=\"text-align: right;\">\n",
       "      <th></th>\n",
       "      <th>Age</th>\n",
       "      <th>Education</th>\n",
       "      <th>Usage</th>\n",
       "      <th>Fitness</th>\n",
       "      <th>Income</th>\n",
       "      <th>Miles</th>\n",
       "    </tr>\n",
       "  </thead>\n",
       "  <tbody>\n",
       "    <tr>\n",
       "      <th>Age</th>\n",
       "      <td>1.000000</td>\n",
       "      <td>0.280496</td>\n",
       "      <td>0.015064</td>\n",
       "      <td>0.061105</td>\n",
       "      <td>0.513414</td>\n",
       "      <td>0.036618</td>\n",
       "    </tr>\n",
       "    <tr>\n",
       "      <th>Education</th>\n",
       "      <td>0.280496</td>\n",
       "      <td>1.000000</td>\n",
       "      <td>0.395155</td>\n",
       "      <td>0.410581</td>\n",
       "      <td>0.625827</td>\n",
       "      <td>0.307284</td>\n",
       "    </tr>\n",
       "    <tr>\n",
       "      <th>Usage</th>\n",
       "      <td>0.015064</td>\n",
       "      <td>0.395155</td>\n",
       "      <td>1.000000</td>\n",
       "      <td>0.668606</td>\n",
       "      <td>0.519537</td>\n",
       "      <td>0.759130</td>\n",
       "    </tr>\n",
       "    <tr>\n",
       "      <th>Fitness</th>\n",
       "      <td>0.061105</td>\n",
       "      <td>0.410581</td>\n",
       "      <td>0.668606</td>\n",
       "      <td>1.000000</td>\n",
       "      <td>0.535005</td>\n",
       "      <td>0.785702</td>\n",
       "    </tr>\n",
       "    <tr>\n",
       "      <th>Income</th>\n",
       "      <td>0.513414</td>\n",
       "      <td>0.625827</td>\n",
       "      <td>0.519537</td>\n",
       "      <td>0.535005</td>\n",
       "      <td>1.000000</td>\n",
       "      <td>0.543473</td>\n",
       "    </tr>\n",
       "    <tr>\n",
       "      <th>Miles</th>\n",
       "      <td>0.036618</td>\n",
       "      <td>0.307284</td>\n",
       "      <td>0.759130</td>\n",
       "      <td>0.785702</td>\n",
       "      <td>0.543473</td>\n",
       "      <td>1.000000</td>\n",
       "    </tr>\n",
       "  </tbody>\n",
       "</table>\n",
       "</div>"
      ],
      "text/plain": [
       "                Age  Education     Usage   Fitness    Income     Miles\n",
       "Age        1.000000   0.280496  0.015064  0.061105  0.513414  0.036618\n",
       "Education  0.280496   1.000000  0.395155  0.410581  0.625827  0.307284\n",
       "Usage      0.015064   0.395155  1.000000  0.668606  0.519537  0.759130\n",
       "Fitness    0.061105   0.410581  0.668606  1.000000  0.535005  0.785702\n",
       "Income     0.513414   0.625827  0.519537  0.535005  1.000000  0.543473\n",
       "Miles      0.036618   0.307284  0.759130  0.785702  0.543473  1.000000"
      ]
     },
     "execution_count": 249,
     "metadata": {},
     "output_type": "execute_result"
    }
   ],
   "source": [
    "data_corr"
   ]
  },
  {
   "cell_type": "markdown",
   "id": "326661e3",
   "metadata": {},
   "source": [
    "#### Visual Analysis : Univariate & Bivariate"
   ]
  },
  {
   "cell_type": "markdown",
   "id": "ee8e0bd9",
   "metadata": {},
   "source": [
    "###### Analysis based on each product"
   ]
  },
  {
   "cell_type": "code",
   "execution_count": 70,
   "id": "1c1a278a",
   "metadata": {},
   "outputs": [
    {
     "data": {
      "image/png": "[encoded data removed]",
      "text/plain": [
       "<Figure size 432x288 with 1 Axes>"
      ]
     },
     "metadata": {
      "needs_background": "light"
     },
     "output_type": "display_data"
    }
   ],
   "source": [
    "sns.countplot(data['Product'])    \n",
    "plt.show()"
   ]
  },
  {
   "cell_type": "code",
   "execution_count": 80,
   "id": "e3b7c48f",
   "metadata": {},
   "outputs": [
    {
     "data": {
      "image/png": "[encoded data removed]",
      "text/plain": [
       "<Figure size 432x288 with 1 Axes>"
      ]
     },
     "metadata": {},
     "output_type": "display_data"
    }
   ],
   "source": [
    "plt.pie(data['Product'].value_counts(),explode=(0.01,0.01,0.01), labels=data['Product'].value_counts(),autopct='%.1f%%')\n",
    "plt.show()"
   ]
  },
  {
   "cell_type": "markdown",
   "id": "2ee264bc",
   "metadata": {},
   "source": [
    "<b>Insights :</b><br>\n",
    "###### ---> Product KP281 has a maximum of 44.4% of the total observations \n",
    "###### ---> Product KP481 has 33.3% of the total observations \n",
    "###### ---> Product KP781 has the minium of 22.2% of the total observations made."
   ]
  },
  {
   "cell_type": "markdown",
   "id": "90e12b21",
   "metadata": {},
   "source": [
    "###### Analysis based on gender"
   ]
  },
  {
   "cell_type": "code",
   "execution_count": 83,
   "id": "9e69111b",
   "metadata": {},
   "outputs": [
    {
     "data": {
      "image/png": "[encoded data removed]",
      "text/plain": [
       "<Figure size 432x288 with 1 Axes>"
      ]
     },
     "metadata": {},
     "output_type": "display_data"
    }
   ],
   "source": [
    "plt.pie(data['Gender'].value_counts(),explode=(0.02,0.02), labels=data['Gender'].value_counts(),autopct='%.1f%%')\n",
    "plt.show()"
   ]
  },
  {
   "cell_type": "markdown",
   "id": "31dfcfd0",
   "metadata": {},
   "source": [
    "<b>Insights :</b><br>\n",
    "######  --->The observations consist of 57.8% of Male and 42.2% of Female customers."
   ]
  },
  {
   "cell_type": "markdown",
   "id": "e23dd8a4",
   "metadata": {},
   "source": [
    "###### Analysis of gender based on each product"
   ]
  },
  {
   "cell_type": "code",
   "execution_count": 92,
   "id": "15a52372",
   "metadata": {},
   "outputs": [
    {
     "data": {
      "image/png": "[encoded data removed]",
      "text/plain": [
       "<Figure size 432x288 with 1 Axes>"
      ]
     },
     "metadata": {
      "needs_background": "light"
     },
     "output_type": "display_data"
    }
   ],
   "source": [
    "sns.countplot(x='Product',data=data,hue='Gender')\n",
    "plt.legend()\n",
    "plt.show()"
   ]
  },
  {
   "cell_type": "markdown",
   "id": "0f21b55e",
   "metadata": {},
   "source": [
    "<b>Insights :</b><br>\n",
    "###### ---> Based on the observation we know that the number of Male and Female customers of product KP281 are equal.\n",
    "###### ---> Based on the observation we know that for product KP481 the number of Male customers is more than Female customers.\n",
    "###### ---> Based on the observation we know that for product KP781 the number of Male customers is more than Female customers.\n",
    "###### ---> Based on overall observation we know the number of Male customers is more than that of Female customers."
   ]
  },
  {
   "cell_type": "markdown",
   "id": "9f7770c2",
   "metadata": {},
   "source": [
    "###### Analysis of MaritalStatus based on each product"
   ]
  },
  {
   "cell_type": "code",
   "execution_count": 93,
   "id": "de465bfb",
   "metadata": {},
   "outputs": [
    {
     "data": {
      "image/png": "[encoded data removed]",
      "text/plain": [
       "<Figure size 432x288 with 1 Axes>"
      ]
     },
     "metadata": {
      "needs_background": "light"
     },
     "output_type": "display_data"
    }
   ],
   "source": [
    "sns.countplot(x='Product',data=data,hue='MaritalStatus')\n",
    "plt.legend()\n",
    "plt.show()"
   ]
  },
  {
   "cell_type": "markdown",
   "id": "74d39fdf",
   "metadata": {},
   "source": [
    "<b>Insights :</b><br>\n",
    "######  ---> Based on overall observation we know the number of Partnered is more than that of Single customers.    "
   ]
  },
  {
   "cell_type": "markdown",
   "id": "28ee4ded",
   "metadata": {},
   "source": [
    "###### Analysis based on age and usage"
   ]
  },
  {
   "cell_type": "code",
   "execution_count": 337,
   "id": "80d661dd",
   "metadata": {},
   "outputs": [
    {
     "data": {
      "image/png": "[encoded data removed]",
      "text/plain": [
       "<Figure size 432x288 with 1 Axes>"
      ]
     },
     "metadata": {
      "needs_background": "light"
     },
     "output_type": "display_data"
    }
   ],
   "source": [
    "sns.lineplot(x = 'Age', y = 'Usage', data = data, ci = None)\n",
    "plt.show()"
   ]
  },
  {
   "cell_type": "markdown",
   "id": "bbde78e5",
   "metadata": {},
   "source": [
    "<b>Insights :</b><br>\n",
    "######  ---> Based on the observation we can say that customers of age between 40 - 45 years, have the maximum usage.\n",
    "######  ---> Overall age does not seem to affect the usage."
   ]
  },
  {
   "cell_type": "markdown",
   "id": "09cc53b4",
   "metadata": {},
   "source": [
    "###### Analysis based on product and income"
   ]
  },
  {
   "cell_type": "code",
   "execution_count": 327,
   "id": "663edfd8",
   "metadata": {},
   "outputs": [
    {
     "data": {
      "image/png": "[encoded data removed]",
      "text/plain": [
       "<Figure size 432x288 with 1 Axes>"
      ]
     },
     "metadata": {
      "needs_background": "light"
     },
     "output_type": "display_data"
    }
   ],
   "source": [
    "sns.lineplot(data=data, x='Product', y='Income')\n",
    "plt.ylabel(\"Income\")\n",
    "plt.xlabel(\"Product\")\n",
    "plt.show()"
   ]
  },
  {
   "cell_type": "markdown",
   "id": "3e7df590",
   "metadata": {},
   "source": [
    "<b>Insights :</b><br>\n",
    "######  ---> Based on the observation we can say that customers with low income mostly purchased KP281 & KP481 and customers with high income purchased KP781 "
   ]
  },
  {
   "cell_type": "markdown",
   "id": "c2a1e54b",
   "metadata": {},
   "source": [
    "###### Analysis based on usage and fitness "
   ]
  },
  {
   "cell_type": "code",
   "execution_count": 328,
   "id": "f3f1ec16",
   "metadata": {},
   "outputs": [
    {
     "data": {
      "image/png": "[encoded data removed]",
      "text/plain": [
       "<Figure size 432x288 with 1 Axes>"
      ]
     },
     "metadata": {
      "needs_background": "light"
     },
     "output_type": "display_data"
    }
   ],
   "source": [
    "sns.lineplot(data=data, x='Usage', y='Fitness')\n",
    "plt.xlabel(\"Usage\")\n",
    "plt.ylabel(\"Fitness\")\n",
    "plt.show()"
   ]
  },
  {
   "cell_type": "markdown",
   "id": "726449ea",
   "metadata": {},
   "source": [
    "<b>Insights :</b><br>\n",
    "######  ---> Based on the observation we can say that as usage increases fitness also increases."
   ]
  },
  {
   "cell_type": "markdown",
   "id": "c00e4021",
   "metadata": {},
   "source": [
    "###### Analysis based on fitness and income "
   ]
  },
  {
   "cell_type": "code",
   "execution_count": 334,
   "id": "b5af3f6b",
   "metadata": {},
   "outputs": [
    {
     "data": {
      "image/png": "[encoded data removed]",
      "text/plain": [
       "<Figure size 360x360 with 1 Axes>"
      ]
     },
     "metadata": {
      "needs_background": "light"
     },
     "output_type": "display_data"
    }
   ],
   "source": [
    "sns.lmplot(data=data, x='Fitness', y='Income')\n",
    "plt.xlabel(\"Fitness\")\n",
    "plt.ylabel(\"Income\")\n",
    "plt.show()"
   ]
  },
  {
   "cell_type": "markdown",
   "id": "6a0efa31",
   "metadata": {},
   "source": [
    "<b>Insights :</b><br>\n",
    "######  ---> Based on the observation we can say that as income increases fitness also increases."
   ]
  },
  {
   "cell_type": "markdown",
   "id": "98289b0b",
   "metadata": {},
   "source": [
    "###### Analysing Correlation of data"
   ]
  },
  {
   "cell_type": "code",
   "execution_count": 252,
   "id": "d33cef57",
   "metadata": {},
   "outputs": [
    {
     "data": {
      "image/png": "[encoded data removed]",
      "text/plain": [
       "<Figure size 720x432 with 2 Axes>"
      ]
     },
     "metadata": {
      "needs_background": "light"
     },
     "output_type": "display_data"
    }
   ],
   "source": [
    "plt.figure(figsize=(10,6))\n",
    "sns.heatmap(data_corr, annot=True)\n",
    "plt.show()"
   ]
  },
  {
   "cell_type": "markdown",
   "id": "800a49f6",
   "metadata": {},
   "source": [
    "<b>Insights :</b><br>\n",
    "######  ---> Based on the observation we can say that Usage and Miles have very strong correlation and Miles and Fitness have very strong correlation "
   ]
  },
  {
   "cell_type": "markdown",
   "id": "c7b10323",
   "metadata": {},
   "source": [
    "###### Relation between Miles,Income and Usage"
   ]
  },
  {
   "cell_type": "code",
   "execution_count": 242,
   "id": "925581c1",
   "metadata": {},
   "outputs": [
    {
     "data": {
      "image/png": "[encoded data removed]",
      "text/plain": [
       "<Figure size 720x360 with 1 Axes>"
      ]
     },
     "metadata": {
      "needs_background": "light"
     },
     "output_type": "display_data"
    }
   ],
   "source": [
    "plt.figure(figsize = (10,5))\n",
    "sns.scatterplot(x='Miles',y='Income',hue='Usage',data=data)\n",
    "plt.legend()\n",
    "plt.show()"
   ]
  },
  {
   "cell_type": "markdown",
   "id": "4644d9ee",
   "metadata": {},
   "source": [
    "<b>Insights :</b><br>\n",
    "######  ---> Based on the observation we can say that most of the customers whose income less than 70000 use  under 200 miles/week\n",
    "######  ---> Based on the observation we can say that the customers with income higher than 70000 use between 100 to 360 miles/week"
   ]
  },
  {
   "cell_type": "markdown",
   "id": "c950d332",
   "metadata": {},
   "source": [
    "###### Outlier check based on Miles"
   ]
  },
  {
   "cell_type": "code",
   "execution_count": 260,
   "id": "62c62972",
   "metadata": {},
   "outputs": [],
   "source": [
    "d_mile=data.Miles"
   ]
  },
  {
   "cell_type": "markdown",
   "id": "abd2eea7",
   "metadata": {},
   "source": [
    "###### Boxplot based on miles"
   ]
  },
  {
   "cell_type": "code",
   "execution_count": 263,
   "id": "2bfd7f97",
   "metadata": {},
   "outputs": [
    {
     "data": {
      "image/png": "[encoded data removed]",
      "text/plain": [
       "<Figure size 720x360 with 1 Axes>"
      ]
     },
     "metadata": {
      "needs_background": "light"
     },
     "output_type": "display_data"
    }
   ],
   "source": [
    "plt.figure(figsize=(10,5))\n",
    "sns.boxplot(data=d_mile,orient='h')\n",
    "plt.show()"
   ]
  },
  {
   "cell_type": "markdown",
   "id": "8355ae64",
   "metadata": {},
   "source": [
    "<b>Insights:</b>\n",
    "###### ---> Outlier values are there in miles"
   ]
  },
  {
   "cell_type": "markdown",
   "id": "e3f162d7",
   "metadata": {},
   "source": [
    "###### Finding the 25th and 75th percentile of miles"
   ]
  },
  {
   "cell_type": "code",
   "execution_count": 276,
   "id": "9df814dd",
   "metadata": {},
   "outputs": [
    {
     "name": "stdout",
     "output_type": "stream",
     "text": [
      "25th percentile : 66.0\n",
      "75th percentile : 114.75\n"
     ]
    }
   ],
   "source": [
    "p_25=d_mile.quantile(0.25)\n",
    "p_75=d_mile.quantile(0.75)\n",
    "print('25th percentile :',p_25)\n",
    "print('75th percentile :',p_75)"
   ]
  },
  {
   "cell_type": "markdown",
   "id": "6805df78",
   "metadata": {},
   "source": [
    "###### Finding Inter Quartile Range,lower limit and upper limit"
   ]
  },
  {
   "cell_type": "code",
   "execution_count": 290,
   "id": "684598a3",
   "metadata": {},
   "outputs": [
    {
     "name": "stdout",
     "output_type": "stream",
     "text": [
      "IQR : 48.75\n",
      "Lower : -7.125\n",
      "Upper : 187.875\n"
     ]
    }
   ],
   "source": [
    "iqr=p_75 - p_25\n",
    "lower=p_25 - (1.5*iqr)\n",
    "upper=p_75 + (1.5*iqr)\n",
    "print('IQR :',iqr)\n",
    "print('Lower :',lower)\n",
    "print('Upper :',upper)"
   ]
  },
  {
   "cell_type": "code",
   "execution_count": 291,
   "id": "171b5a98",
   "metadata": {},
   "outputs": [],
   "source": [
    "miles_iqr=data.loc[(d_mile>lower)&(d_mile<upper)]"
   ]
  },
  {
   "cell_type": "code",
   "execution_count": 293,
   "id": "bb66933c",
   "metadata": {},
   "outputs": [
    {
     "data": {
      "text/html": [
       "<div>\n",
       "<style scoped>\n",
       "    .dataframe tbody tr th:only-of-type {\n",
       "        vertical-align: middle;\n",
       "    }\n",
       "\n",
       "    .dataframe tbody tr th {\n",
       "        vertical-align: top;\n",
       "    }\n",
       "\n",
       "    .dataframe thead th {\n",
       "        text-align: right;\n",
       "    }\n",
       "</style>\n",
       "<table border=\"1\" class=\"dataframe\">\n",
       "  <thead>\n",
       "    <tr style=\"text-align: right;\">\n",
       "      <th></th>\n",
       "      <th>Product</th>\n",
       "      <th>Age</th>\n",
       "      <th>Gender</th>\n",
       "      <th>Education</th>\n",
       "      <th>MaritalStatus</th>\n",
       "      <th>Usage</th>\n",
       "      <th>Fitness</th>\n",
       "      <th>Income</th>\n",
       "      <th>Miles</th>\n",
       "    </tr>\n",
       "  </thead>\n",
       "  <tbody>\n",
       "    <tr>\n",
       "      <th>0</th>\n",
       "      <td>KP281</td>\n",
       "      <td>18</td>\n",
       "      <td>Male</td>\n",
       "      <td>14</td>\n",
       "      <td>Single</td>\n",
       "      <td>3</td>\n",
       "      <td>4</td>\n",
       "      <td>29562</td>\n",
       "      <td>112</td>\n",
       "    </tr>\n",
       "    <tr>\n",
       "      <th>1</th>\n",
       "      <td>KP281</td>\n",
       "      <td>19</td>\n",
       "      <td>Male</td>\n",
       "      <td>15</td>\n",
       "      <td>Single</td>\n",
       "      <td>2</td>\n",
       "      <td>3</td>\n",
       "      <td>31836</td>\n",
       "      <td>75</td>\n",
       "    </tr>\n",
       "    <tr>\n",
       "      <th>2</th>\n",
       "      <td>KP281</td>\n",
       "      <td>19</td>\n",
       "      <td>Female</td>\n",
       "      <td>14</td>\n",
       "      <td>Partnered</td>\n",
       "      <td>4</td>\n",
       "      <td>3</td>\n",
       "      <td>30699</td>\n",
       "      <td>66</td>\n",
       "    </tr>\n",
       "    <tr>\n",
       "      <th>3</th>\n",
       "      <td>KP281</td>\n",
       "      <td>19</td>\n",
       "      <td>Male</td>\n",
       "      <td>12</td>\n",
       "      <td>Single</td>\n",
       "      <td>3</td>\n",
       "      <td>3</td>\n",
       "      <td>32973</td>\n",
       "      <td>85</td>\n",
       "    </tr>\n",
       "    <tr>\n",
       "      <th>4</th>\n",
       "      <td>KP281</td>\n",
       "      <td>20</td>\n",
       "      <td>Male</td>\n",
       "      <td>13</td>\n",
       "      <td>Partnered</td>\n",
       "      <td>4</td>\n",
       "      <td>2</td>\n",
       "      <td>35247</td>\n",
       "      <td>47</td>\n",
       "    </tr>\n",
       "    <tr>\n",
       "      <th>...</th>\n",
       "      <td>...</td>\n",
       "      <td>...</td>\n",
       "      <td>...</td>\n",
       "      <td>...</td>\n",
       "      <td>...</td>\n",
       "      <td>...</td>\n",
       "      <td>...</td>\n",
       "      <td>...</td>\n",
       "      <td>...</td>\n",
       "    </tr>\n",
       "    <tr>\n",
       "      <th>172</th>\n",
       "      <td>KP781</td>\n",
       "      <td>34</td>\n",
       "      <td>Male</td>\n",
       "      <td>16</td>\n",
       "      <td>Single</td>\n",
       "      <td>5</td>\n",
       "      <td>5</td>\n",
       "      <td>92131</td>\n",
       "      <td>150</td>\n",
       "    </tr>\n",
       "    <tr>\n",
       "      <th>174</th>\n",
       "      <td>KP781</td>\n",
       "      <td>38</td>\n",
       "      <td>Male</td>\n",
       "      <td>18</td>\n",
       "      <td>Partnered</td>\n",
       "      <td>5</td>\n",
       "      <td>5</td>\n",
       "      <td>104581</td>\n",
       "      <td>150</td>\n",
       "    </tr>\n",
       "    <tr>\n",
       "      <th>177</th>\n",
       "      <td>KP781</td>\n",
       "      <td>45</td>\n",
       "      <td>Male</td>\n",
       "      <td>16</td>\n",
       "      <td>Single</td>\n",
       "      <td>5</td>\n",
       "      <td>5</td>\n",
       "      <td>90886</td>\n",
       "      <td>160</td>\n",
       "    </tr>\n",
       "    <tr>\n",
       "      <th>178</th>\n",
       "      <td>KP781</td>\n",
       "      <td>47</td>\n",
       "      <td>Male</td>\n",
       "      <td>18</td>\n",
       "      <td>Partnered</td>\n",
       "      <td>4</td>\n",
       "      <td>5</td>\n",
       "      <td>104581</td>\n",
       "      <td>120</td>\n",
       "    </tr>\n",
       "    <tr>\n",
       "      <th>179</th>\n",
       "      <td>KP781</td>\n",
       "      <td>48</td>\n",
       "      <td>Male</td>\n",
       "      <td>18</td>\n",
       "      <td>Partnered</td>\n",
       "      <td>4</td>\n",
       "      <td>5</td>\n",
       "      <td>95508</td>\n",
       "      <td>180</td>\n",
       "    </tr>\n",
       "  </tbody>\n",
       "</table>\n",
       "<p>167 rows × 9 columns</p>\n",
       "</div>"
      ],
      "text/plain": [
       "    Product  Age  Gender  Education MaritalStatus  Usage  Fitness  Income  \\\n",
       "0     KP281   18    Male         14        Single      3        4   29562   \n",
       "1     KP281   19    Male         15        Single      2        3   31836   \n",
       "2     KP281   19  Female         14     Partnered      4        3   30699   \n",
       "3     KP281   19    Male         12        Single      3        3   32973   \n",
       "4     KP281   20    Male         13     Partnered      4        2   35247   \n",
       "..      ...  ...     ...        ...           ...    ...      ...     ...   \n",
       "172   KP781   34    Male         16        Single      5        5   92131   \n",
       "174   KP781   38    Male         18     Partnered      5        5  104581   \n",
       "177   KP781   45    Male         16        Single      5        5   90886   \n",
       "178   KP781   47    Male         18     Partnered      4        5  104581   \n",
       "179   KP781   48    Male         18     Partnered      4        5   95508   \n",
       "\n",
       "     Miles  \n",
       "0      112  \n",
       "1       75  \n",
       "2       66  \n",
       "3       85  \n",
       "4       47  \n",
       "..     ...  \n",
       "172    150  \n",
       "174    150  \n",
       "177    160  \n",
       "178    120  \n",
       "179    180  \n",
       "\n",
       "[167 rows x 9 columns]"
      ]
     },
     "execution_count": 293,
     "metadata": {},
     "output_type": "execute_result"
    }
   ],
   "source": [
    "miles_iqr"
   ]
  },
  {
   "cell_type": "markdown",
   "id": "40a71e8f",
   "metadata": {},
   "source": [
    "###### Outlier check based on Income"
   ]
  },
  {
   "cell_type": "code",
   "execution_count": 295,
   "id": "baaede18",
   "metadata": {},
   "outputs": [],
   "source": [
    "d_income=data.Income"
   ]
  },
  {
   "cell_type": "markdown",
   "id": "9da22694",
   "metadata": {},
   "source": [
    "###### Boxplot based on income"
   ]
  },
  {
   "cell_type": "code",
   "execution_count": 296,
   "id": "9492636b",
   "metadata": {},
   "outputs": [
    {
     "data": {
      "image/png": "[encoded data removed]",
      "text/plain": [
       "<Figure size 720x360 with 1 Axes>"
      ]
     },
     "metadata": {
      "needs_background": "light"
     },
     "output_type": "display_data"
    }
   ],
   "source": [
    "plt.figure(figsize=(10,5))\n",
    "sns.boxplot(data=d_income,orient='h')\n",
    "plt.show()"
   ]
  },
  {
   "cell_type": "markdown",
   "id": "125fe440",
   "metadata": {},
   "source": [
    "<b>Insights:</b>\n",
    "###### ---> Outlier values are there in income"
   ]
  },
  {
   "cell_type": "markdown",
   "id": "b8b8d647",
   "metadata": {},
   "source": [
    "###### Finding the 25th and 75th percentile of income"
   ]
  },
  {
   "cell_type": "code",
   "execution_count": 297,
   "id": "f154dab8",
   "metadata": {},
   "outputs": [
    {
     "name": "stdout",
     "output_type": "stream",
     "text": [
      "25th percentile : 44058.75\n",
      "75th percentile : 58668.0\n"
     ]
    }
   ],
   "source": [
    "p_25=d_income.quantile(0.25)\n",
    "p_75=d_income.quantile(0.75)\n",
    "print('25th percentile :',p_25)\n",
    "print('75th percentile :',p_75)"
   ]
  },
  {
   "cell_type": "markdown",
   "id": "f0ef787e",
   "metadata": {},
   "source": [
    "###### Finding Inter Quartile Range,lower limit and upper limit"
   ]
  },
  {
   "cell_type": "code",
   "execution_count": 298,
   "id": "14a9f319",
   "metadata": {},
   "outputs": [
    {
     "name": "stdout",
     "output_type": "stream",
     "text": [
      "IQR : 14609.25\n",
      "Lower : 22144.875\n",
      "Upper : 80581.875\n"
     ]
    }
   ],
   "source": [
    "iqr=p_75 - p_25\n",
    "lower=p_25 - (1.5*iqr)\n",
    "upper=p_75 + (1.5*iqr)\n",
    "print('IQR :',iqr)\n",
    "print('Lower :',lower)\n",
    "print('Upper :',upper)"
   ]
  },
  {
   "cell_type": "code",
   "execution_count": 299,
   "id": "e537dd69",
   "metadata": {},
   "outputs": [],
   "source": [
    "income_iqr=data.loc[(d_income>lower)&(d_income<upper)]"
   ]
  },
  {
   "cell_type": "code",
   "execution_count": 300,
   "id": "8b9128ae",
   "metadata": {},
   "outputs": [
    {
     "data": {
      "text/html": [
       "<div>\n",
       "<style scoped>\n",
       "    .dataframe tbody tr th:only-of-type {\n",
       "        vertical-align: middle;\n",
       "    }\n",
       "\n",
       "    .dataframe tbody tr th {\n",
       "        vertical-align: top;\n",
       "    }\n",
       "\n",
       "    .dataframe thead th {\n",
       "        text-align: right;\n",
       "    }\n",
       "</style>\n",
       "<table border=\"1\" class=\"dataframe\">\n",
       "  <thead>\n",
       "    <tr style=\"text-align: right;\">\n",
       "      <th></th>\n",
       "      <th>Product</th>\n",
       "      <th>Age</th>\n",
       "      <th>Gender</th>\n",
       "      <th>Education</th>\n",
       "      <th>MaritalStatus</th>\n",
       "      <th>Usage</th>\n",
       "      <th>Fitness</th>\n",
       "      <th>Income</th>\n",
       "      <th>Miles</th>\n",
       "    </tr>\n",
       "  </thead>\n",
       "  <tbody>\n",
       "    <tr>\n",
       "      <th>0</th>\n",
       "      <td>KP281</td>\n",
       "      <td>18</td>\n",
       "      <td>Male</td>\n",
       "      <td>14</td>\n",
       "      <td>Single</td>\n",
       "      <td>3</td>\n",
       "      <td>4</td>\n",
       "      <td>29562</td>\n",
       "      <td>112</td>\n",
       "    </tr>\n",
       "    <tr>\n",
       "      <th>1</th>\n",
       "      <td>KP281</td>\n",
       "      <td>19</td>\n",
       "      <td>Male</td>\n",
       "      <td>15</td>\n",
       "      <td>Single</td>\n",
       "      <td>2</td>\n",
       "      <td>3</td>\n",
       "      <td>31836</td>\n",
       "      <td>75</td>\n",
       "    </tr>\n",
       "    <tr>\n",
       "      <th>2</th>\n",
       "      <td>KP281</td>\n",
       "      <td>19</td>\n",
       "      <td>Female</td>\n",
       "      <td>14</td>\n",
       "      <td>Partnered</td>\n",
       "      <td>4</td>\n",
       "      <td>3</td>\n",
       "      <td>30699</td>\n",
       "      <td>66</td>\n",
       "    </tr>\n",
       "    <tr>\n",
       "      <th>3</th>\n",
       "      <td>KP281</td>\n",
       "      <td>19</td>\n",
       "      <td>Male</td>\n",
       "      <td>12</td>\n",
       "      <td>Single</td>\n",
       "      <td>3</td>\n",
       "      <td>3</td>\n",
       "      <td>32973</td>\n",
       "      <td>85</td>\n",
       "    </tr>\n",
       "    <tr>\n",
       "      <th>4</th>\n",
       "      <td>KP281</td>\n",
       "      <td>20</td>\n",
       "      <td>Male</td>\n",
       "      <td>13</td>\n",
       "      <td>Partnered</td>\n",
       "      <td>4</td>\n",
       "      <td>2</td>\n",
       "      <td>35247</td>\n",
       "      <td>47</td>\n",
       "    </tr>\n",
       "    <tr>\n",
       "      <th>...</th>\n",
       "      <td>...</td>\n",
       "      <td>...</td>\n",
       "      <td>...</td>\n",
       "      <td>...</td>\n",
       "      <td>...</td>\n",
       "      <td>...</td>\n",
       "      <td>...</td>\n",
       "      <td>...</td>\n",
       "      <td>...</td>\n",
       "    </tr>\n",
       "    <tr>\n",
       "      <th>156</th>\n",
       "      <td>KP781</td>\n",
       "      <td>25</td>\n",
       "      <td>Male</td>\n",
       "      <td>20</td>\n",
       "      <td>Partnered</td>\n",
       "      <td>4</td>\n",
       "      <td>5</td>\n",
       "      <td>74701</td>\n",
       "      <td>170</td>\n",
       "    </tr>\n",
       "    <tr>\n",
       "      <th>157</th>\n",
       "      <td>KP781</td>\n",
       "      <td>26</td>\n",
       "      <td>Female</td>\n",
       "      <td>21</td>\n",
       "      <td>Single</td>\n",
       "      <td>4</td>\n",
       "      <td>3</td>\n",
       "      <td>69721</td>\n",
       "      <td>100</td>\n",
       "    </tr>\n",
       "    <tr>\n",
       "      <th>158</th>\n",
       "      <td>KP781</td>\n",
       "      <td>26</td>\n",
       "      <td>Male</td>\n",
       "      <td>16</td>\n",
       "      <td>Partnered</td>\n",
       "      <td>5</td>\n",
       "      <td>4</td>\n",
       "      <td>64741</td>\n",
       "      <td>180</td>\n",
       "    </tr>\n",
       "    <tr>\n",
       "      <th>163</th>\n",
       "      <td>KP781</td>\n",
       "      <td>28</td>\n",
       "      <td>Male</td>\n",
       "      <td>18</td>\n",
       "      <td>Partnered</td>\n",
       "      <td>7</td>\n",
       "      <td>5</td>\n",
       "      <td>77191</td>\n",
       "      <td>180</td>\n",
       "    </tr>\n",
       "    <tr>\n",
       "      <th>165</th>\n",
       "      <td>KP781</td>\n",
       "      <td>29</td>\n",
       "      <td>Male</td>\n",
       "      <td>18</td>\n",
       "      <td>Single</td>\n",
       "      <td>5</td>\n",
       "      <td>5</td>\n",
       "      <td>52290</td>\n",
       "      <td>180</td>\n",
       "    </tr>\n",
       "  </tbody>\n",
       "</table>\n",
       "<p>161 rows × 9 columns</p>\n",
       "</div>"
      ],
      "text/plain": [
       "    Product  Age  Gender  Education MaritalStatus  Usage  Fitness  Income  \\\n",
       "0     KP281   18    Male         14        Single      3        4   29562   \n",
       "1     KP281   19    Male         15        Single      2        3   31836   \n",
       "2     KP281   19  Female         14     Partnered      4        3   30699   \n",
       "3     KP281   19    Male         12        Single      3        3   32973   \n",
       "4     KP281   20    Male         13     Partnered      4        2   35247   \n",
       "..      ...  ...     ...        ...           ...    ...      ...     ...   \n",
       "156   KP781   25    Male         20     Partnered      4        5   74701   \n",
       "157   KP781   26  Female         21        Single      4        3   69721   \n",
       "158   KP781   26    Male         16     Partnered      5        4   64741   \n",
       "163   KP781   28    Male         18     Partnered      7        5   77191   \n",
       "165   KP781   29    Male         18        Single      5        5   52290   \n",
       "\n",
       "     Miles  \n",
       "0      112  \n",
       "1       75  \n",
       "2       66  \n",
       "3       85  \n",
       "4       47  \n",
       "..     ...  \n",
       "156    170  \n",
       "157    100  \n",
       "158    180  \n",
       "163    180  \n",
       "165    180  \n",
       "\n",
       "[161 rows x 9 columns]"
      ]
     },
     "execution_count": 300,
     "metadata": {},
     "output_type": "execute_result"
    }
   ],
   "source": [
    "income_iqr"
   ]
  },
  {
   "cell_type": "markdown",
   "id": "c1d9db58",
   "metadata": {},
   "source": [
    "### Insights<br>\n",
    "1. Based on the observation we can say that the probability of customers purchasing KP281 is 44.4% of the total observations.<br>\n",
    "2. Based on the observation we can say that the probability of customers purchasing KP481 is 33.3% of the total observations.<br>\n",
    "3. Based on the observation we can say that the probability of customers purchasing KP781 is 22.2% of the total observations.<br>\n",
    "4. Based on the observation we can say that the probability of customers purchasing KP281 is more<br><br>\n",
    "5. Based on the observation we can say that age from 18 - 25<br>\n",
    "   43.04% purchased KP281<br>\n",
    "   35.44% purchased KP481<br>\n",
    "   21.52% purchased KP781<br>\n",
    "<br>\n",
    "6. Based on the observation we can say that age from 25 - 35<br>\n",
    "   43.84% purchased KP281<br>\n",
    "   32.88% purchased KP481<br>\n",
    "   23.29% purchased KP781<br>\n",
    "<br>\n",
    "7. Based on the observation we can say that age from 35 - 45<br>\n",
    "   50.00% purchased KP281<br>\n",
    "   31.82% purchased KP481<br>\n",
    "   18.18% purchased KP781<br>\n",
    "<br>\n",
    "8. Based on the observation we can say that age from 45 - 55<br>\n",
    "   50.00% purchased KP281<br>\n",
    "   16.67% purchased KP481<br>\n",
    "   33.33% purchased KP781<br><br>\n",
    "9. Based on the observation we can say that 52.63% of Female purchased KP281 ,38.16% of Female purchased KP481 and 9.21% of Female purchased KP781.<br>\n",
    "10. Based on the observation we can say that 38.46 % of Male purchased KP281 ,29.81% of Male purchased KP481 and 31.73% of Male purchased KP781.<br><br>\n",
    "11. Based on the observation we can say that 44.86% of Partnered purchased KP281 ,33.64% of Partnered purchased KP481 and 21.50% of Partnered purchased KP781.<br>\n",
    "12. Based on the observation we can say that 43.84% of Single purchased KP281 ,32.88% of Single purchased KP481 and 23.29% of Single purchased KP781.<br><br>\n",
    "13. Product KP281 has a maximum of 44.4% of the total observations<br>\n",
    "14. Product KP481 has 33.3% of the total observations<br>\n",
    "15. Product KP781 has the minium of 22.2% of the total observations made.<br><br>\n",
    "16. The observations consist of 57.8% of Male and 42.2% of Female customers.<br><br>\n",
    "17. Based on the observation we know that the number of Male and Female customers of product KP281 are equal.<br>\n",
    "18. Based on the observation we know that for product KP481 the number of Male customers is more than Female customers.<br>\n",
    "19. Based on the observation we know that for product KP781 the number of Male customers is more than Female customers.<br>\n",
    "20. Based on overall observation we know the number of Male customers is more than that of Female customers.<br><br>\n",
    "21. Based on overall observation we know the number of Partnered is more than that of Single customers.<br><br>\n",
    "22. Based on the observation we can say that customers of age between 40 - 45 years, have the maximum usage.<br>\n",
    "23. Overall age does not seem to affect the usage.<br><br>\n",
    "24. Based on the observation we can say that customers with low income mostly purchased KP281 & KP481 and customers with high income purchased KP781<br><br>\n",
    "25. Based on the observation we can say that as usage increases fitness also increases.<br><br>\n",
    "26. Based on the observation we can say that as income increases fitness also increases.<br><br>\n",
    "27. Based on the observation we can say that Usage and Miles have very strong correlation and Miles and Fitness have very strong correlation<br><br>\n",
    "28. Based on the observation we can say that most of the customers whose income less than 70000 use under 200 miles/week<br>\n",
    "29. Based on the observation we can say that the customers with income higher than 70000 use between 100 to 360 miles/week<br><br>"
   ]
  },
  {
   "cell_type": "markdown",
   "id": "6318a782",
   "metadata": {},
   "source": [
    "### Recommendations "
   ]
  },
  {
   "cell_type": "markdown",
   "id": "d1d58318",
   "metadata": {},
   "source": [
    "1. The probability of customers purchasing KP781 is 22.2% of the total observations, Aerofit needs to figure out why customers are not interested in KP781. <br>\n",
    "2. Only 9.21% of Female purchased KP781, Aerofit needs to find out why females do not prefer KP781.<br>\n",
    "3. Only 42.2% of Female purchased the overall products, Aerofit needs to find out why females are not interested in the product.<br>\n",
    "4. Customers having low budget can choose KP281.<br>\n",
    "5. Customers having high budget can choose KP781.<br>\n",
    "6. Customers having a medium budget can choose KP481.<br> \n",
    "7. Most of the customers purchased KP281 and KP481, Aerofit needs to sell these products to gain more income.<br> \n",
    "8. Customers of age between 40 - 45 years, have the maximum usage,Aerofit needs to find out why other age groups have less usage.<br>\n",
    "9. Customers needs to increase the usage of the products to increase their fitness.<br>\n",
    "10. To get better understanding of why the customer prefers one model over the other, Aerofit needs to obtain data on the specifications on each products. <br>\n",
    " \n"
   ]
  }
 ],
 "metadata": {
  "kernelspec": {
   "display_name": "Python 3 (ipykernel)",
   "language": "python",
   "name": "python3"
  },
  "language_info": {
   "codemirror_mode": {
    "name": "ipython",
    "version": 3
   },
   "file_extension": ".py",
   "mimetype": "text/x-python",
   "name": "python",
   "nbconvert_exporter": "python",
   "pygments_lexer": "ipython3",
   "version": "3.9.12"
  }
 },
 "nbformat": 4,
 "nbformat_minor": 5
}
